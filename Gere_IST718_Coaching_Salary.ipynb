{
 "cells": [
  {
   "cell_type": "markdown",
   "id": "c7ba5779",
   "metadata": {},
   "source": [
    "    Lab 1\n",
    "    Author: Morgan Gere\n",
    "    IST-718\n",
    "    10/18/2022"
   ]
  },
  {
   "cell_type": "code",
   "execution_count": 3025,
   "id": "36ac9305",
   "metadata": {},
   "outputs": [],
   "source": [
    "# Importing the coaches data set using pandas\n",
    "import pandas as pd\n",
    "coaches = pd.read_csv(r\"C:\\Users\\Morga\\programsMG\\Big_Analytics\\Coaches9.csv\")"
   ]
  },
  {
   "cell_type": "markdown",
   "id": "3681a498",
   "metadata": {},
   "source": [
    "# Initial look into the data"
   ]
  },
  {
   "cell_type": "markdown",
   "id": "82f39613",
   "metadata": {},
   "source": [
    "An initial look at the data reveals there was NA values that were being represented by \"--\".  There was punctuation displayed in the numerical data including dollar signs and commas.  A look at the info revealed there were in object format in the data frame not int64, meaning these are strings in a list not intergers in a list. "
   ]
  },
  {
   "cell_type": "code",
   "execution_count": 3026,
   "id": "61a23d5c",
   "metadata": {},
   "outputs": [
    {
     "data": {
      "text/html": [
       "<div>\n",
       "<style scoped>\n",
       "    .dataframe tbody tr th:only-of-type {\n",
       "        vertical-align: middle;\n",
       "    }\n",
       "\n",
       "    .dataframe tbody tr th {\n",
       "        vertical-align: top;\n",
       "    }\n",
       "\n",
       "    .dataframe thead th {\n",
       "        text-align: right;\n",
       "    }\n",
       "</style>\n",
       "<table border=\"1\" class=\"dataframe\">\n",
       "  <thead>\n",
       "    <tr style=\"text-align: right;\">\n",
       "      <th></th>\n",
       "      <th>School</th>\n",
       "      <th>Conference</th>\n",
       "      <th>Coach</th>\n",
       "      <th>SchoolPay</th>\n",
       "      <th>TotalPay</th>\n",
       "      <th>Bonus</th>\n",
       "      <th>BonusPaid</th>\n",
       "      <th>AssistantPay</th>\n",
       "      <th>Buyout</th>\n",
       "    </tr>\n",
       "  </thead>\n",
       "  <tbody>\n",
       "    <tr>\n",
       "      <th>0</th>\n",
       "      <td>Air Force</td>\n",
       "      <td>Mt. West</td>\n",
       "      <td>Troy Calhoun</td>\n",
       "      <td>885000</td>\n",
       "      <td>885000</td>\n",
       "      <td>247000</td>\n",
       "      <td>--</td>\n",
       "      <td>$0</td>\n",
       "      <td>--</td>\n",
       "    </tr>\n",
       "    <tr>\n",
       "      <th>1</th>\n",
       "      <td>Akron</td>\n",
       "      <td>MAC</td>\n",
       "      <td>Terry Bowden</td>\n",
       "      <td>$411,000</td>\n",
       "      <td>$412,500</td>\n",
       "      <td>$225,000</td>\n",
       "      <td>$50,000</td>\n",
       "      <td>$0</td>\n",
       "      <td>$688,500</td>\n",
       "    </tr>\n",
       "    <tr>\n",
       "      <th>2</th>\n",
       "      <td>Alabama</td>\n",
       "      <td>SEC</td>\n",
       "      <td>Nick Saban</td>\n",
       "      <td>$8,307,000</td>\n",
       "      <td>$8,307,000</td>\n",
       "      <td>$1,100,000</td>\n",
       "      <td>$500,000</td>\n",
       "      <td>$0</td>\n",
       "      <td>$33,600,000</td>\n",
       "    </tr>\n",
       "    <tr>\n",
       "      <th>3</th>\n",
       "      <td>Alabama at Birmingham</td>\n",
       "      <td>C-USA</td>\n",
       "      <td>Bill Clark</td>\n",
       "      <td>$900,000</td>\n",
       "      <td>$900,000</td>\n",
       "      <td>$950,000</td>\n",
       "      <td>$165,471</td>\n",
       "      <td>$0</td>\n",
       "      <td>$3,847,500</td>\n",
       "    </tr>\n",
       "    <tr>\n",
       "      <th>4</th>\n",
       "      <td>Appalachian State</td>\n",
       "      <td>Sun Belt</td>\n",
       "      <td>Scott Satterfield</td>\n",
       "      <td>$712,500</td>\n",
       "      <td>$712,500</td>\n",
       "      <td>$295,000</td>\n",
       "      <td>$145,000</td>\n",
       "      <td>$0</td>\n",
       "      <td>$2,160,417</td>\n",
       "    </tr>\n",
       "  </tbody>\n",
       "</table>\n",
       "</div>"
      ],
      "text/plain": [
       "                  School Conference              Coach    SchoolPay  \\\n",
       "0              Air Force   Mt. West       Troy Calhoun       885000   \n",
       "1                  Akron        MAC       Terry Bowden    $411,000    \n",
       "2                Alabama        SEC         Nick Saban  $8,307,000    \n",
       "3  Alabama at Birmingham      C-USA         Bill Clark    $900,000    \n",
       "4      Appalachian State   Sun Belt  Scott Satterfield    $712,500    \n",
       "\n",
       "      TotalPay        Bonus  BonusPaid AssistantPay        Buyout  \n",
       "0       885000       247000         --          $0             --  \n",
       "1    $412,500     $225,000    $50,000           $0      $688,500   \n",
       "2  $8,307,000   $1,100,000   $500,000           $0   $33,600,000   \n",
       "3    $900,000     $950,000   $165,471           $0    $3,847,500   \n",
       "4    $712,500     $295,000   $145,000           $0    $2,160,417   "
      ]
     },
     "execution_count": 3026,
     "metadata": {},
     "output_type": "execute_result"
    }
   ],
   "source": [
    "# Looking at the top 5 rows.\n",
    "coaches.head()"
   ]
  },
  {
   "cell_type": "code",
   "execution_count": 3027,
   "id": "6d6f8782",
   "metadata": {},
   "outputs": [
    {
     "data": {
      "text/plain": [
       "129"
      ]
     },
     "execution_count": 3027,
     "metadata": {},
     "output_type": "execute_result"
    }
   ],
   "source": [
    "#checking row length to make sure data isn't lost\n",
    "len(coaches)"
   ]
  },
  {
   "cell_type": "code",
   "execution_count": 3028,
   "id": "be13db44",
   "metadata": {},
   "outputs": [
    {
     "name": "stdout",
     "output_type": "stream",
     "text": [
      "<class 'pandas.core.frame.DataFrame'>\n",
      "RangeIndex: 129 entries, 0 to 128\n",
      "Data columns (total 9 columns):\n",
      " #   Column        Non-Null Count  Dtype \n",
      "---  ------        --------------  ----- \n",
      " 0   School        129 non-null    object\n",
      " 1   Conference    129 non-null    object\n",
      " 2   Coach         129 non-null    object\n",
      " 3   SchoolPay     129 non-null    object\n",
      " 4   TotalPay      129 non-null    object\n",
      " 5   Bonus         129 non-null    object\n",
      " 6   BonusPaid     129 non-null    object\n",
      " 7   AssistantPay  129 non-null    object\n",
      " 8   Buyout        129 non-null    object\n",
      "dtypes: object(9)\n",
      "memory usage: 9.2+ KB\n"
     ]
    }
   ],
   "source": [
    "coaches.info()"
   ]
  },
  {
   "cell_type": "code",
   "execution_count": 3029,
   "id": "0d24d364",
   "metadata": {},
   "outputs": [
    {
     "name": "stdout",
     "output_type": "stream",
     "text": [
      "School type: <class 'str'>\n",
      "TotalPay type: <class 'str'>\n"
     ]
    }
   ],
   "source": [
    "#showing two examples of the type of the observations.\n",
    "print(\"School type:\",type(coaches[\"School\"][0]))\n",
    "print(\"TotalPay type:\", type(coaches[\"TotalPay\"][0]))"
   ]
  },
  {
   "cell_type": "code",
   "execution_count": 3030,
   "id": "f4fe4863",
   "metadata": {},
   "outputs": [
    {
     "name": "stdout",
     "output_type": "stream",
     "text": [
      "School\n",
      "Conference\n",
      "Coach\n",
      "SchoolPay\n",
      "TotalPay\n",
      "Bonus\n",
      "BonusPaid\n",
      "AssistantPay\n",
      "Buyout\n"
     ]
    }
   ],
   "source": [
    "#checking column names\n",
    "for col in coaches.columns:\n",
    "    print(col)"
   ]
  },
  {
   "cell_type": "code",
   "execution_count": 3031,
   "id": "7a1610e0",
   "metadata": {},
   "outputs": [
    {
     "data": {
      "text/plain": [
       "array(['$0 '], dtype=object)"
      ]
     },
     "execution_count": 3031,
     "metadata": {},
     "output_type": "execute_result"
    }
   ],
   "source": [
    "#checking to see if there are any values other than $0 for AssistantPay.\n",
    "coaches[\"AssistantPay\"].unique()"
   ]
  },
  {
   "cell_type": "markdown",
   "id": "dc723e7b",
   "metadata": {},
   "source": [
    "Since new information was to be gathered and placed into the data frame the unused columns were removed for simplicity. The goal was chosen to predict TotalPay.  Since SchoolPay was not used it was dropped.  The initial look at the data revealed that AssistantPay only contained the values of $0 and was dropped. Since Bonus is another portion of the coach’s contract, that information would not be available for use when predicting the salary(TotalPay), the same applies to BounsPaid, and Buyout.  It is possible to create a model using Bonus and Buyout.  In that case different bonus and buyout amounts could be used to see how it changes the salary (TotalPay) prediction. This was not done as there were a variety of other variables to be used and it would be complicated to place an amount into these without high subject knowledge. "
   ]
  },
  {
   "cell_type": "code",
   "execution_count": 3032,
   "id": "3f3904a2",
   "metadata": {},
   "outputs": [],
   "source": [
    "#Dropping Columns\n",
    "coaches.drop('SchoolPay', axis=1, inplace=True)\n",
    "coaches.drop('AssistantPay', axis=1, inplace=True)\n",
    "coaches.drop('Bonus', axis=1, inplace=True)\n",
    "coaches.drop('BonusPaid', axis=1, inplace=True)\n",
    "coaches.drop('Buyout', axis=1, inplace=True)"
   ]
  },
  {
   "cell_type": "code",
   "execution_count": 3033,
   "id": "44743b9f",
   "metadata": {},
   "outputs": [
    {
     "name": "stdout",
     "output_type": "stream",
     "text": [
      "                    School Conference               Coach     TotalPay\n",
      "0                Air Force   Mt. West        Troy Calhoun       885000\n",
      "1                    Akron        MAC        Terry Bowden    $412,500 \n",
      "2                  Alabama        SEC          Nick Saban  $8,307,000 \n",
      "3    Alabama at Birmingham      C-USA          Bill Clark    $900,000 \n",
      "4        Appalachian State   Sun Belt   Scott Satterfield    $712,500 \n",
      "5                  Arizona     Pac-12        Kevin Sumlin  $2,000,000 \n",
      "6            Arizona State     Pac-12        Herm Edwards  $2,000,000 \n",
      "7                 Arkansas        SEC         Chad Morris  $3,500,000 \n",
      "8           Arkansas State   Sun Belt      Blake Anderson    $825,000 \n",
      "9                     Army       Ind.         Jeff Monken       932521\n",
      "10                  Auburn        SEC         Gus Malzahn  $6,705,656 \n",
      "11              Ball State        MAC            Mike Neu    $435,689 \n",
      "12                  Baylor     Big 12          Matt Rhule           --\n",
      "13             Boise State   Mt. West        Bryan Harsin  $1,650,010 \n",
      "14          Boston College        ACC       Steve Addazio  $2,514,859 \n",
      "15           Bowling Green        MAC          Mike Jinks    $437,228 \n",
      "16           Brigham Young       Ind.       Kalani Sitake           --\n",
      "17                 Buffalo        MAC       Lance Leipold    $455,500 \n",
      "18              California     Pac-12       Justin Wilcox  $1,500,000 \n",
      "19         Central Florida        AAC         Josh Heupel  $1,700,000 \n",
      "20        Central Michigan        MAC       John Bonamego    $655,000 \n",
      "21               Charlotte      C-USA        Brad Lambert    $625,000 \n",
      "22              Cincinnati        AAC        Luke Fickell  $2,000,000 \n",
      "23                 Clemson        ACC        Dabo Swinney  $6,543,350 \n",
      "24        Coastal Carolina   Sun Belt          Joe Moglia    $400,000 \n",
      "25                Colorado     Pac-12      Mike MacIntyre  $2,878,500 \n",
      "26          Colorado State   Mt. West           Mike Bobo  $1,800,000 \n",
      "27             Connecticut        AAC        Randy Edsall  $1,100,000 \n",
      "28                    Duke        ACC     David Cutcliffe  $2,540,928 \n",
      "29           East Carolina        AAC  Scottie Montgomery  $1,102,500 \n",
      "30        Eastern Michigan        MAC     Chris Creighton    $460,000 \n",
      "31                 Florida        SEC          Dan Mullen  $6,070,000 \n",
      "32        Florida Atlantic      C-USA         Lane Kiffin  $1,000,000 \n",
      "33   Florida International      C-USA         Butch Davis    $945,000 \n",
      "34           Florida State        ACC      Willie Taggart  $5,000,000 \n",
      "35            Fresno State   Mt. West        Jeff Tedford  $1,550,000 \n",
      "36                 Georgia        SEC         Kirby Smart  $6,603,600 \n",
      "37        Georgia Southern   Sun Belt       Chad Lunsford    $650,000 \n",
      "38           Georgia State   Sun Belt       Shawn Elliott    $569,000 \n",
      "39            Georgia Tech        ACC        Paul Johnson  $3,060,018 \n",
      "40                  Hawaii   Mt. West       Nick Rolovich    $486,504 \n",
      "41                 Houston        AAC    Major Applewhite  $1,750,000 \n",
      "42                Illinois    Big Ten         Lovie Smith  $5,000,000 \n",
      "43                 Indiana    Big Ten           Tom Allen  $1,830,000 \n",
      "44                    Iowa    Big Ten        Kirk Ferentz  $4,700,000 \n",
      "45              Iowa State     Big 12       Matt Campbell  $3,500,000 \n",
      "46                  Kansas     Big 12         David Beaty  $1,701,109 \n",
      "47            Kansas State     Big 12         Bill Snyder  $3,500,000 \n",
      "48              Kent State        MAC          Sean Lewis    $440,000 \n",
      "49                Kentucky        SEC         Mark Stoops  $4,013,600 \n",
      "50                 Liberty       Ind.         Turner Gill    $947,281 \n",
      "51          Louisiana Tech      C-USA          Skip Holtz    $700,000 \n",
      "52     Louisiana-Lafayette   Sun Belt        Billy Napier    $850,000 \n",
      "53        Louisiana-Monroe   Sun Belt         Matt Viator    $390,000 \n",
      "54              Louisville        ACC       Bobby Petrino  $3,980,434 \n",
      "55                     LSU        SEC          Ed Orgeron  $3,500,000 \n",
      "56                Marshall      C-USA        Doc Holliday    $762,570 \n",
      "57                Maryland    Big Ten           DJ Durkin  $2,512,000 \n",
      "58           Massachusetts       Ind.        Mark Whipple    $500,000 \n",
      "59                 Memphis        AAC        Mike Norvell  $2,600,000 \n",
      "60            Miami (Fla.)        ACC          Mark Richt  $4,058,061 \n",
      "61            Miami (Ohio)        MAC        Chuck Martin    $524,826 \n",
      "62                Michigan    Big Ten        Jim Harbaugh  $7,504,000 \n",
      "63          Michigan State    Big Ten       Mark Dantonio  $4,390,417 \n",
      "64        Middle Tennessee      C-USA     Rick Stockstill    $803,004 \n",
      "65               Minnesota    Big Ten          P.J. Fleck  $3,550,000 \n",
      "66             Mississippi        SEC           Matt Luke  $3,000,000 \n",
      "67       Mississippi State        SEC        Joe Moorhead  $2,600,000 \n",
      "68                Missouri        SEC          Barry Odom  $2,350,000 \n",
      "69                    Navy        AAC     Ken Niumatalolo  $2,163,000 \n",
      "70                Nebraska    Big Ten         Scott Frost  $5,000,000 \n",
      "71                  Nevada   Mt. West         Jay Norvell    $500,000 \n",
      "72        Nevada-Las Vegas   Mt. West        Tony Sanchez    $600,000 \n",
      "73              New Mexico   Mt. West           Bob Davie    $823,740 \n",
      "74        New Mexico State       Ind.         Doug Martin    $419,640 \n",
      "75          North Carolina        ACC        Larry Fedora  $2,575,000 \n",
      "76    North Carolina State        ACC         Dave Doeren  $3,000,000 \n",
      "77             North Texas      C-USA       Seth Littrell  $1,425,000 \n",
      "78       Northern Illinois        MAC           Rod Carey    $633,460 \n",
      "79            Northwestern    Big Ten      Pat Fitzgerald  $3,619,775 \n",
      "80              Notre Dame       Ind.         Brian Kelly  $2,129,638 \n",
      "81                    Ohio        MAC        Frank Solich    $580,331 \n",
      "82              Ohio State    Big Ten         Urban Meyer  $7,600,000 \n",
      "83                Oklahoma     Big 12       Lincoln Riley  $4,800,000 \n",
      "84          Oklahoma State     Big 12          Mike Gundy  $5,000,000 \n",
      "85            Old Dominion      C-USA        Bobby Wilder    $654,667 \n",
      "86                  Oregon     Pac-12     Mario Cristobal  $2,500,000 \n",
      "87            Oregon State     Pac-12      Jonathan Smith  $1,900,008 \n",
      "88              Penn State    Big Ten      James Franklin  $4,800,000 \n",
      "89              Pittsburgh        ACC        Pat Narduzzi  $3,017,718 \n",
      "90                  Purdue    Big Ten          Jeff Brohm  $3,800,000 \n",
      "91                    Rice      C-USA      Mike Bloomgren           --\n",
      "92                 Rutgers    Big Ten           Chris Ash  $2,200,000 \n",
      "93         San Diego State   Mt. West          Rocky Long    $873,576 \n",
      "94          San Jose State   Mt. West       Brent Brennan    $590,424 \n",
      "95           South Alabama   Sun Belt      Steve Campbell    $600,000 \n",
      "96          South Carolina        SEC       Will Muschamp  $4,200,000 \n",
      "97           South Florida        AAC      Charlie Strong  $1,000,000 \n",
      "98     Southern California     Pac-12         Clay Helton  $2,625,965 \n",
      "99      Southern Methodist        AAC         Sonny Dykes           --\n",
      "100   Southern Mississippi      C-USA          Jay Hopson    $500,000 \n",
      "101               Stanford     Pac-12          David Shaw  $4,311,543 \n",
      "102               Syracuse        ACC         Dino Babers  $2,401,206 \n",
      "103              Tennessee        SEC       Jeremy Pruitt  $3,846,000 \n",
      "104                  Texas     Big 12          Tom Herman  $5,500,000 \n",
      "105              Texas A&M        SEC        Jimbo Fisher  $7,500,000 \n",
      "106        Texas Christian     Big 12      Gary Patterson  $4,840,717 \n",
      "107            Texas State   Sun Belt     Everett Withers    $700,000 \n",
      "108             Texas Tech     Big 12     Kliff Kingsbury  $3,703,975 \n",
      "109          Texas-El Paso      C-USA          Dana Dimel    $700,000 \n",
      "110      Texas-San Antonio      C-USA        Frank Wilson  $1,100,000 \n",
      "111                 Toledo        MAC        Jason Candle  $1,125,000 \n",
      "112                   Troy   Sun Belt          Neal Brown    $810,000 \n",
      "113                 Tulane        AAC        Willie Fritz  $1,629,000 \n",
      "114                  Tulsa        AAC   Philip Montgomery  $1,518,177 \n",
      "115                   UCLA     Pac-12          Chip Kelly  $3,300,000 \n",
      "116                   Utah     Pac-12    Kyle Whittingham  $3,787,917 \n",
      "117             Utah State   Mt. West          Matt Wells    $900,000 \n",
      "118             Vanderbilt        SEC         Derek Mason  $2,812,523 \n",
      "119               Virginia        ACC   Bronco Mendenhall  $3,550,000 \n",
      "120          Virginia Tech        ACC       Justin Fuente  $4,000,000 \n",
      "121            Wake Forest        ACC        Dave Clawson  $1,831,580 \n",
      "122             Washington     Pac-12      Chris Petersen  $4,377,500 \n",
      "123       Washington State     Pac-12          Mike Leach  $3,500,000 \n",
      "124          West Virginia     Big 12      Dana Holgorsen  $3,617,500 \n",
      "125       Western Kentucky      C-USA    Mike Sanford Jr.    $805,850 \n",
      "126       Western Michigan        MAC          Tim Lester    $800,000 \n",
      "127              Wisconsin    Big Ten         Paul Chryst  $3,750,000 \n",
      "128                Wyoming   Mt. West          Craig Bohl  $1,412,000 \n"
     ]
    }
   ],
   "source": [
    "# Looking at the dataframe.\n",
    "print(coaches.to_string())"
   ]
  },
  {
   "cell_type": "code",
   "execution_count": 3034,
   "id": "6c14ab0a",
   "metadata": {},
   "outputs": [
    {
     "data": {
      "text/plain": [
       "129"
      ]
     },
     "execution_count": 3034,
     "metadata": {},
     "output_type": "execute_result"
    }
   ],
   "source": [
    "#checking row length to make sure data isn't lost\n",
    "len(coaches)"
   ]
  },
  {
   "cell_type": "markdown",
   "id": "3921f70b",
   "metadata": {},
   "source": [
    "When starting this project because the data was unframiliar a dataframe was created to explain column names for understanting throughout the project.  This was left in to show some behind the scences magic."
   ]
  },
  {
   "cell_type": "code",
   "execution_count": 3035,
   "id": "a68f274b",
   "metadata": {},
   "outputs": [],
   "source": [
    "#creating an empty list to add dictionary items into\n",
    "legend = []\n",
    "# creating a dictionary for each column\n",
    "legend.append({\"column\":\"School\",\"Description\":\"University Name\"})\n",
    "legend.append({\"column\":\"Conference\",\"Description\":\"Grouping of teams(most games played in thier own grouping)\"})\n",
    "legend.append({\"column\":\"Coach\",\"Description\":\"Head Coach Name\"})\n",
    "legend.append({\"column\":\"TotalPay\",\"Description\":\"Salary for the Head Coach\"})\n",
    "#legend.append({\"column\":\"Bonus\",\"Description\":\"Total possible extra money to be made bassed on team performance\"})\n",
    "#legend.append({\"column\":\"BonusPaid\",\"Description\":\"How much of the bonus the coach aquired based on team performance\"})\n",
    "#legend.append({\"column\":\"Buyout\",\"Description\":\"Amount the coach is paid if fired without cause\"})\n",
    "legend.append({\"column\":\"stadium_capacity\",\"Description\":\"Total seats avalible for games\"})\n",
    "legend.append({\"column\":\"gsr\",\"Description\":\"Graduation Success Rate\"})\n",
    "legend.append({\"column\":\"fgr\",\"Description\":\"Federal Graduation Rate (Freshman graduation rate): number of freshman that graduate\"})\n",
    "legend.append({\"column\":\"win\",\"Description\":\"Total wins for each team in 2021\"})\n",
    "legend.append({\"column\":\"loss\",\"Description\":\"Total lost games for each team in 2021\"})\n",
    "legend.append({\"column\":\"win_percent\",\"Description\":\"Percentage of games won by each team in 2021\"})\n",
    "\n",
    "\n",
    "legend_df = pd.DataFrame(legend)"
   ]
  },
  {
   "cell_type": "code",
   "execution_count": 3036,
   "id": "7e5230f9",
   "metadata": {},
   "outputs": [],
   "source": [
    "# Making the column name the index for easy access\n",
    "legend_df.set_index('column',inplace=True)"
   ]
  },
  {
   "cell_type": "code",
   "execution_count": 3037,
   "id": "f7f72b4f",
   "metadata": {},
   "outputs": [
    {
     "data": {
      "text/plain": [
       "Description    University Name\n",
       "Name: School, dtype: object"
      ]
     },
     "execution_count": 3037,
     "metadata": {},
     "output_type": "execute_result"
    }
   ],
   "source": [
    "#shoing an example of how this dataframe was used.\n",
    "legend_df.loc['School']"
   ]
  },
  {
   "cell_type": "markdown",
   "id": "d313b226",
   "metadata": {},
   "source": [
    "# Data Cleaning"
   ]
  },
  {
   "cell_type": "markdown",
   "id": "9022c14a",
   "metadata": {},
   "source": [
    "For each column that contains numeric data the punctuation must be removed, then the type needs to be changed to integer so that mathematical analysis can be performed.  Even though Bonus, BonusPaid, and Buyout were removed the cleaning of Bonus, BonusPaid, and Buyout was commented out but left in.  This was done so in case a model using any of these was used the work wasn't required to be done again."
   ]
  },
  {
   "cell_type": "markdown",
   "id": "fc4fde6a",
   "metadata": {},
   "source": [
    "##### TotalPay"
   ]
  },
  {
   "cell_type": "code",
   "execution_count": 3038,
   "id": "77342f34",
   "metadata": {},
   "outputs": [],
   "source": [
    "#Changing the totalpay to a list to remove punctuation and change into an integer type.\n",
    "total_pay_temp = coaches[\"TotalPay\"].tolist()"
   ]
  },
  {
   "cell_type": "code",
   "execution_count": 3039,
   "id": "53399f66",
   "metadata": {},
   "outputs": [
    {
     "name": "stdout",
     "output_type": "stream",
     "text": [
      "[885000, 412500, 8307000, 900000, 712500, 2000000, 2000000, 3500000, 825000, 932521, 6705656, 435689, 0, 1650010, 2514859, 437228, 0, 455500, 1500000, 1700000, 655000, 625000, 2000000, 6543350, 400000, 2878500, 1800000, 1100000, 2540928, 1102500, 460000, 6070000, 1000000, 945000, 5000000, 1550000, 6603600, 650000, 569000, 3060018, 486504, 1750000, 5000000, 1830000, 4700000, 3500000, 1701109, 3500000, 440000, 4013600, 947281, 700000, 850000, 390000, 3980434, 3500000, 762570, 2512000, 500000, 2600000, 4058061, 524826, 7504000, 4390417, 803004, 3550000, 3000000, 2600000, 2350000, 2163000, 5000000, 500000, 600000, 823740, 419640, 2575000, 3000000, 1425000, 633460, 3619775, 2129638, 580331, 7600000, 4800000, 5000000, 654667, 2500000, 1900008, 4800000, 3017718, 3800000, 0, 2200000, 873576, 590424, 600000, 4200000, 1000000, 2625965, 0, 500000, 4311543, 2401206, 3846000, 5500000, 7500000, 4840717, 700000, 3703975, 700000, 1100000, 1125000, 810000, 1629000, 1518177, 3300000, 3787917, 900000, 2812523, 3550000, 4000000, 1831580, 4377500, 3500000, 3617500, 805850, 800000, 3750000, 1412000]\n"
     ]
    }
   ],
   "source": [
    "# Creating a new temp list to place the fixed observations.\n",
    "total_pay_temp_2 = []\n",
    "\n",
    "for item in total_pay_temp:\n",
    "    #Removing $\n",
    "    temp1 = item.replace('$','')\n",
    "    #Removing commas in the numbers\n",
    "    temp2 = temp1.replace(',','')\n",
    "    # Changing -- which is NA to 0 (these will be fixed in the proceeding steps)\n",
    "    temp3 = temp2.replace('--','0')\n",
    "    # Converting to integer type\n",
    "    temp4 = int(temp3)\n",
    "    # adding to the temp list\n",
    "    total_pay_temp_2.append(temp4)\n",
    "#checking the temp list\n",
    "print(total_pay_temp_2)\n",
    "    \n",
    "    "
   ]
  },
  {
   "cell_type": "code",
   "execution_count": 3040,
   "id": "7f919cdf",
   "metadata": {},
   "outputs": [],
   "source": [
    "#Removing the old column\n",
    "coaches.drop('TotalPay', axis=1, inplace=True)"
   ]
  },
  {
   "cell_type": "code",
   "execution_count": 3041,
   "id": "3c96db8f",
   "metadata": {},
   "outputs": [],
   "source": [
    "#adding the temp list into the dataframe\n",
    "coaches['TotalPay']=total_pay_temp_2"
   ]
  },
  {
   "cell_type": "code",
   "execution_count": 3042,
   "id": "8e2e10a3",
   "metadata": {},
   "outputs": [
    {
     "data": {
      "text/html": [
       "<div>\n",
       "<style scoped>\n",
       "    .dataframe tbody tr th:only-of-type {\n",
       "        vertical-align: middle;\n",
       "    }\n",
       "\n",
       "    .dataframe tbody tr th {\n",
       "        vertical-align: top;\n",
       "    }\n",
       "\n",
       "    .dataframe thead th {\n",
       "        text-align: right;\n",
       "    }\n",
       "</style>\n",
       "<table border=\"1\" class=\"dataframe\">\n",
       "  <thead>\n",
       "    <tr style=\"text-align: right;\">\n",
       "      <th></th>\n",
       "      <th>School</th>\n",
       "      <th>Conference</th>\n",
       "      <th>Coach</th>\n",
       "      <th>TotalPay</th>\n",
       "    </tr>\n",
       "  </thead>\n",
       "  <tbody>\n",
       "    <tr>\n",
       "      <th>0</th>\n",
       "      <td>Air Force</td>\n",
       "      <td>Mt. West</td>\n",
       "      <td>Troy Calhoun</td>\n",
       "      <td>885000</td>\n",
       "    </tr>\n",
       "    <tr>\n",
       "      <th>1</th>\n",
       "      <td>Akron</td>\n",
       "      <td>MAC</td>\n",
       "      <td>Terry Bowden</td>\n",
       "      <td>412500</td>\n",
       "    </tr>\n",
       "    <tr>\n",
       "      <th>2</th>\n",
       "      <td>Alabama</td>\n",
       "      <td>SEC</td>\n",
       "      <td>Nick Saban</td>\n",
       "      <td>8307000</td>\n",
       "    </tr>\n",
       "    <tr>\n",
       "      <th>3</th>\n",
       "      <td>Alabama at Birmingham</td>\n",
       "      <td>C-USA</td>\n",
       "      <td>Bill Clark</td>\n",
       "      <td>900000</td>\n",
       "    </tr>\n",
       "    <tr>\n",
       "      <th>4</th>\n",
       "      <td>Appalachian State</td>\n",
       "      <td>Sun Belt</td>\n",
       "      <td>Scott Satterfield</td>\n",
       "      <td>712500</td>\n",
       "    </tr>\n",
       "  </tbody>\n",
       "</table>\n",
       "</div>"
      ],
      "text/plain": [
       "                  School Conference              Coach  TotalPay\n",
       "0              Air Force   Mt. West       Troy Calhoun    885000\n",
       "1                  Akron        MAC       Terry Bowden    412500\n",
       "2                Alabama        SEC         Nick Saban   8307000\n",
       "3  Alabama at Birmingham      C-USA         Bill Clark    900000\n",
       "4      Appalachian State   Sun Belt  Scott Satterfield    712500"
      ]
     },
     "execution_count": 3042,
     "metadata": {},
     "output_type": "execute_result"
    }
   ],
   "source": [
    "#inspecting the first 5 rows of the dataframe\n",
    "coaches.head()"
   ]
  },
  {
   "cell_type": "code",
   "execution_count": 3043,
   "id": "b85536e5",
   "metadata": {},
   "outputs": [
    {
     "name": "stdout",
     "output_type": "stream",
     "text": [
      "129\n",
      "                School Conference           Coach  TotalPay\n",
      "12              Baylor     Big 12      Matt Rhule         0\n",
      "16       Brigham Young       Ind.   Kalani Sitake         0\n",
      "91                Rice      C-USA  Mike Bloomgren         0\n",
      "99  Southern Methodist        AAC     Sonny Dykes         0\n"
     ]
    }
   ],
   "source": [
    "#checking for 0 (the NA values we replaced previouslys (-- to 0))\n",
    "print(len(coaches))\n",
    "print(coaches[coaches['TotalPay']==0])"
   ]
  },
  {
   "cell_type": "markdown",
   "id": "55af3286",
   "metadata": {},
   "source": [
    "Since the information from private schools does not need to be desclosed there are gaps in the information of some of the schools.  Any of the four schools that are missing Totalpay are also missing all other relavent information they were removed in order to not have missing values."
   ]
  },
  {
   "cell_type": "code",
   "execution_count": 3044,
   "id": "612857e8",
   "metadata": {},
   "outputs": [],
   "source": [
    "#removing the rows where total pay is not found\n",
    "coaches=coaches[coaches['TotalPay']!=0]"
   ]
  },
  {
   "cell_type": "code",
   "execution_count": 3045,
   "id": "2fc27011",
   "metadata": {},
   "outputs": [
    {
     "name": "stdout",
     "output_type": "stream",
     "text": [
      "125\n",
      "Empty DataFrame\n",
      "Columns: [School, Conference, Coach, TotalPay]\n",
      "Index: []\n"
     ]
    }
   ],
   "source": [
    "# making sure the rows were removed successfully\n",
    "print(len(coaches))\n",
    "print(coaches[coaches['TotalPay']==0])"
   ]
  },
  {
   "cell_type": "markdown",
   "id": "b818b391",
   "metadata": {},
   "source": [
    "##### Bonus"
   ]
  },
  {
   "cell_type": "code",
   "execution_count": 3046,
   "id": "e8f3e86a",
   "metadata": {},
   "outputs": [],
   "source": [
    "#Chaning the totalpay to a list to remove punctuation and change into an integer type.\n",
    "#bonus_temp = coaches[\"Bonus\"].tolist()"
   ]
  },
  {
   "cell_type": "code",
   "execution_count": 3047,
   "id": "a425335d",
   "metadata": {},
   "outputs": [],
   "source": [
    "# Creating a new temp list to place the fixed observations.\n",
    "#bonus_temp_2 = []\n",
    "\n",
    "#for item in bonus_temp:\n",
    "    #Removing $\n",
    "#    temp1 = item.replace('$','')\n",
    "    #Removing commas in the numbers\n",
    "#    temp2 = temp1.replace(',','')\n",
    "    # Changing -- which is NA to 0 (these will be fixed in the proceeding steps)\n",
    "#    temp3 = temp2.replace('--','0')\n",
    "    # Converting to integer type\n",
    "#    temp4 = int(temp3)\n",
    "    # adding to the temp list\n",
    "#    bonus_temp_2.append(temp4)\n",
    "#checking the temp list\n",
    "#print(bonus_temp_2)"
   ]
  },
  {
   "cell_type": "code",
   "execution_count": 3048,
   "id": "67a6d171",
   "metadata": {},
   "outputs": [],
   "source": [
    "#Removing the old column\n",
    "#coaches.drop('Bonus', axis=1, inplace=True)"
   ]
  },
  {
   "cell_type": "code",
   "execution_count": 3049,
   "id": "647e0a49",
   "metadata": {},
   "outputs": [],
   "source": [
    "#adding the temp list into the dataframe\n",
    "#coaches['Bonus']=bonus_temp_2"
   ]
  },
  {
   "cell_type": "code",
   "execution_count": 3050,
   "id": "8cf4dc15",
   "metadata": {},
   "outputs": [],
   "source": [
    "#inspecting the first 5 rows of the dataframe\n",
    "#coaches.head()"
   ]
  },
  {
   "cell_type": "code",
   "execution_count": 3051,
   "id": "88d181e7",
   "metadata": {},
   "outputs": [],
   "source": [
    "#checking for 0 (the NA values we replaced previouslys (-- to 0))\n",
    "#print(len(coaches))\n",
    "#print(coaches[coaches['Bonus']==0])"
   ]
  },
  {
   "cell_type": "markdown",
   "id": "66ec64bd",
   "metadata": {},
   "source": [
    "##### BonusPaid"
   ]
  },
  {
   "cell_type": "code",
   "execution_count": 3052,
   "id": "67024bec",
   "metadata": {},
   "outputs": [],
   "source": [
    "#Chaning the totalpay to a list to remove punctuation and change into an integer type.\n",
    "#bonuspaid_temp = coaches[\"BonusPaid\"].tolist()"
   ]
  },
  {
   "cell_type": "code",
   "execution_count": 3053,
   "id": "8b5c7ef9",
   "metadata": {},
   "outputs": [],
   "source": [
    "# Creating a new temp list to place the fixed observations.\n",
    "#bonuspaid_temp_2 = []\n",
    "\n",
    "#for item in bonuspaid_temp:\n",
    "    #Removing $\n",
    "#    temp1 = item.replace('$','')\n",
    "    #Removing commas in the numbers\n",
    "#    temp2 = temp1.replace(',','')\n",
    "    # Changing -- which is NA to 0 (these will be fixed in the proceeding steps)\n",
    "#    temp3 = temp2.replace('--','0')\n",
    "    # Converting to integer type\n",
    "#    temp4 = int(temp3)\n",
    "    # adding to the temp list\n",
    "#    bonuspaid_temp_2.append(temp4)\n",
    "#checking the temp list\n",
    "#print(bonuspaid_temp_2)"
   ]
  },
  {
   "cell_type": "code",
   "execution_count": 3054,
   "id": "fd201a27",
   "metadata": {},
   "outputs": [],
   "source": [
    "#Removing the old column\n",
    "#coaches.drop('BonusPaid', axis=1, inplace=True)"
   ]
  },
  {
   "cell_type": "code",
   "execution_count": 3055,
   "id": "30b19a8f",
   "metadata": {},
   "outputs": [],
   "source": [
    "#adding the temp list into the dataframe\n",
    "#coaches['BonusPaid']=bonus_temp_2"
   ]
  },
  {
   "cell_type": "code",
   "execution_count": 3056,
   "id": "6050acdf",
   "metadata": {},
   "outputs": [],
   "source": [
    "#inspecting the first 5 rows of the dataframe\n",
    "#coaches.head()"
   ]
  },
  {
   "cell_type": "code",
   "execution_count": 3057,
   "id": "e0f4b72f",
   "metadata": {},
   "outputs": [],
   "source": [
    "#checking for 0 (the NA values we replaced previouslys (-- to 0))\n",
    "#print(len(coaches))\n",
    "#print(coaches[coaches['BonusPaid']==0])"
   ]
  },
  {
   "cell_type": "markdown",
   "id": "a9519dc3",
   "metadata": {},
   "source": [
    "##### Buyout"
   ]
  },
  {
   "cell_type": "code",
   "execution_count": 3058,
   "id": "a93b30c1",
   "metadata": {},
   "outputs": [],
   "source": [
    "#Chaning the totalpay to a list to remove punctuation and change into an integer type.\n",
    "#buyout_temp = coaches[\"Buyout\"].tolist()"
   ]
  },
  {
   "cell_type": "code",
   "execution_count": 3059,
   "id": "5f979c99",
   "metadata": {},
   "outputs": [],
   "source": [
    "# Creating a new temp list to place the fixed observations.\n",
    "#buyout_temp_2 = []\n",
    "\n",
    "#for item in buyout_temp:\n",
    "    #Removing $\n",
    "#    temp1 = item.replace('$','')\n",
    "    #Removing commas in the numbers\n",
    "#    temp2 = temp1.replace(',','')\n",
    "    # Changing -- which is NA to 0 (these will be fixed in the proceeding steps)\n",
    "#    temp3 = temp2.replace('--','0')\n",
    "    # Converting to integer type\n",
    "#    temp4 = int(temp3)\n",
    "    # adding to the temp list\n",
    "#    buyout_temp_2.append(temp4)\n",
    "#checking the temp list\n",
    "#print(buyout_temp_2)"
   ]
  },
  {
   "cell_type": "code",
   "execution_count": 3060,
   "id": "395d4b70",
   "metadata": {},
   "outputs": [],
   "source": [
    "#Removing the old column\n",
    "#coaches.drop('Buyout', axis=1, inplace=True)"
   ]
  },
  {
   "cell_type": "code",
   "execution_count": 3061,
   "id": "c22c5e83",
   "metadata": {},
   "outputs": [],
   "source": [
    "#adding the temp list into the dataframe\n",
    "#coaches['Buyout']=bonus_temp_2"
   ]
  },
  {
   "cell_type": "code",
   "execution_count": 3062,
   "id": "f21b7549",
   "metadata": {},
   "outputs": [],
   "source": [
    "#inspecting the first 5 rows of the dataframe\n",
    "#coaches.head()"
   ]
  },
  {
   "cell_type": "code",
   "execution_count": 3063,
   "id": "7461b350",
   "metadata": {},
   "outputs": [],
   "source": [
    "#checking for 0 (the NA values we replaced previouslys (-- to 0))\n",
    "#print(len(coaches))\n",
    "#print(coaches[coaches['Buyout']==0])"
   ]
  },
  {
   "cell_type": "code",
   "execution_count": 3064,
   "id": "3401af28",
   "metadata": {},
   "outputs": [
    {
     "data": {
      "text/html": [
       "<div>\n",
       "<style scoped>\n",
       "    .dataframe tbody tr th:only-of-type {\n",
       "        vertical-align: middle;\n",
       "    }\n",
       "\n",
       "    .dataframe tbody tr th {\n",
       "        vertical-align: top;\n",
       "    }\n",
       "\n",
       "    .dataframe thead th {\n",
       "        text-align: right;\n",
       "    }\n",
       "</style>\n",
       "<table border=\"1\" class=\"dataframe\">\n",
       "  <thead>\n",
       "    <tr style=\"text-align: right;\">\n",
       "      <th></th>\n",
       "      <th>School</th>\n",
       "      <th>Conference</th>\n",
       "      <th>Coach</th>\n",
       "      <th>TotalPay</th>\n",
       "    </tr>\n",
       "  </thead>\n",
       "  <tbody>\n",
       "    <tr>\n",
       "      <th>0</th>\n",
       "      <td>Air Force</td>\n",
       "      <td>Mt. West</td>\n",
       "      <td>Troy Calhoun</td>\n",
       "      <td>885000</td>\n",
       "    </tr>\n",
       "    <tr>\n",
       "      <th>1</th>\n",
       "      <td>Akron</td>\n",
       "      <td>MAC</td>\n",
       "      <td>Terry Bowden</td>\n",
       "      <td>412500</td>\n",
       "    </tr>\n",
       "    <tr>\n",
       "      <th>2</th>\n",
       "      <td>Alabama</td>\n",
       "      <td>SEC</td>\n",
       "      <td>Nick Saban</td>\n",
       "      <td>8307000</td>\n",
       "    </tr>\n",
       "    <tr>\n",
       "      <th>3</th>\n",
       "      <td>Alabama at Birmingham</td>\n",
       "      <td>C-USA</td>\n",
       "      <td>Bill Clark</td>\n",
       "      <td>900000</td>\n",
       "    </tr>\n",
       "    <tr>\n",
       "      <th>4</th>\n",
       "      <td>Appalachian State</td>\n",
       "      <td>Sun Belt</td>\n",
       "      <td>Scott Satterfield</td>\n",
       "      <td>712500</td>\n",
       "    </tr>\n",
       "  </tbody>\n",
       "</table>\n",
       "</div>"
      ],
      "text/plain": [
       "                  School Conference              Coach  TotalPay\n",
       "0              Air Force   Mt. West       Troy Calhoun    885000\n",
       "1                  Akron        MAC       Terry Bowden    412500\n",
       "2                Alabama        SEC         Nick Saban   8307000\n",
       "3  Alabama at Birmingham      C-USA         Bill Clark    900000\n",
       "4      Appalachian State   Sun Belt  Scott Satterfield    712500"
      ]
     },
     "execution_count": 3064,
     "metadata": {},
     "output_type": "execute_result"
    }
   ],
   "source": [
    "#taking a look at the data frame\n",
    "coaches.head()"
   ]
  },
  {
   "cell_type": "code",
   "execution_count": 3065,
   "id": "0405bbbc",
   "metadata": {},
   "outputs": [
    {
     "name": "stdout",
     "output_type": "stream",
     "text": [
      "<class 'pandas.core.frame.DataFrame'>\n",
      "Int64Index: 125 entries, 0 to 128\n",
      "Data columns (total 4 columns):\n",
      " #   Column      Non-Null Count  Dtype \n",
      "---  ------      --------------  ----- \n",
      " 0   School      125 non-null    object\n",
      " 1   Conference  125 non-null    object\n",
      " 2   Coach       125 non-null    object\n",
      " 3   TotalPay    125 non-null    int64 \n",
      "dtypes: int64(1), object(3)\n",
      "memory usage: 4.9+ KB\n"
     ]
    }
   ],
   "source": [
    "# looking at basic info\n",
    "coaches.info()"
   ]
  },
  {
   "cell_type": "code",
   "execution_count": 3066,
   "id": "3964bb4e",
   "metadata": {},
   "outputs": [
    {
     "name": "stdout",
     "output_type": "stream",
     "text": [
      "\n",
      "School\n",
      " count     125\n",
      "unique    125\n",
      "top       LSU\n",
      "freq        1\n",
      "Name: School, dtype: object\n",
      "\n",
      "Conference\n",
      " count     125\n",
      "unique     11\n",
      "top       ACC\n",
      "freq       14\n",
      "Name: Conference, dtype: object\n",
      "\n",
      "Coach\n",
      " count               125\n",
      "unique              125\n",
      "top       Steve Addazio\n",
      "freq                  1\n",
      "Name: Coach, dtype: object\n",
      "\n",
      "TotalPay\n",
      " count    1.250000e+02\n",
      "mean     2.417061e+06\n",
      "std      1.885752e+06\n",
      "min      3.900000e+05\n",
      "25%      8.058500e+05\n",
      "50%      1.900008e+06\n",
      "75%      3.617500e+06\n",
      "max      8.307000e+06\n",
      "Name: TotalPay, dtype: float64\n"
     ]
    }
   ],
   "source": [
    "# looking at basic descriptive statistics\n",
    "print('\\nSchool\\n',coaches[\"School\"].describe())\n",
    "print('\\nConference\\n',coaches[\"Conference\"].describe())\n",
    "print('\\nCoach\\n',coaches[\"Coach\"].describe())\n",
    "print('\\nTotalPay\\n',coaches[\"TotalPay\"].describe())"
   ]
  },
  {
   "cell_type": "markdown",
   "id": "35850759",
   "metadata": {},
   "source": [
    "# Adding New Data From Other Sources"
   ]
  },
  {
   "cell_type": "markdown",
   "id": "471350b7",
   "metadata": {},
   "source": [
    "##### Stadium Capacity"
   ]
  },
  {
   "cell_type": "markdown",
   "id": "2948657c",
   "metadata": {},
   "source": [
    "Stadium information comes from https://bleacherreport.com/articles/1145292-power-ranking-all-124-college-football-stadiums, along with https://stadiumcapacity.com/ and google.  This was manually entered.  For adding information into the data three approaches were used.  This is the first it is the worst possible way as the order needs to not change and it is not possible to see which school the data corresponds to until it is added to the data set."
   ]
  },
  {
   "cell_type": "code",
   "execution_count": 3067,
   "id": "481cc11d",
   "metadata": {},
   "outputs": [],
   "source": [
    "# Creating a list of the stadium capacitys in order.\n",
    "stadium_capacity = [46692,30000,100077,71594,60000,57803,73379,76000,30964,38000,\n",
    "                    87451,25400,32000,44500,23724,29013,72516,45301,\n",
    "                    30199,15314,35097,80301,21000,53750,34400,40000,40040,50000,\n",
    "                    30200,88548,30000,23500,84300,41031,92746,25000,24333,55000,\n",
    "                    50000,32000,62872,49225,70585,55000,50071,52200,20500,67606,\n",
    "                    21088,30600,31000,30427,55000,92400,38016,51500,68756,62380,\n",
    "                    76500,76500,30200,75000,31000,50805,60850,55082,68349,34000,\n",
    "                    81067,29993,36800,38634,30343,60000,40000,30850,24000,47130,\n",
    "                    80795,24000,102329,82112,60000,21944,54000,45674,107282,65050,\n",
    "                    62500,52454,71294,30456,40646,80250,66321,77500,\n",
    "                    36000,50000,49262,102037,100119,83002,45000,15968,27000,51500,\n",
    "                    30000,26248,30000,72968,30000,91136,45017,25513,39790,61500,\n",
    "                    66233,31500,72500,35117,60000,22000,30200,80321,32580]"
   ]
  },
  {
   "cell_type": "code",
   "execution_count": 3068,
   "id": "314d11a0",
   "metadata": {},
   "outputs": [],
   "source": [
    "#inserting the stadium capacity into the dataframe.\n",
    "coaches.insert(2, 'stadium_capacity', stadium_capacity)"
   ]
  },
  {
   "cell_type": "markdown",
   "id": "9405fa46",
   "metadata": {},
   "source": [
    "##### Graduation Rate"
   ]
  },
  {
   "cell_type": "markdown",
   "id": "cf1a30c8",
   "metadata": {},
   "source": [
    " Information was obtained from https://web3.ncaa.org/ and the cohort year was 2014.  This is the second way information was added it is easier to read but combersome in the markdown as it is long taking up a lot of space.  It would be easier to add information and it is easier to understand what the gsr score is associated with (which school it belongs to). "
   ]
  },
  {
   "cell_type": "code",
   "execution_count": 3069,
   "id": "09bbf951",
   "metadata": {},
   "outputs": [],
   "source": [
    "#Graduation Success Rate\n",
    "#Creating a list of the gsr scores.\n",
    "gsr = [\n",
    "    89,#Air Force\n",
    "    79,#Akron\n",
    "    86,#Alabama\n",
    "    69,#Alabama at Birmingham\n",
    "    78,#Appalachian State\n",
    "    73,#Arizona\n",
    "    86,#Arizona State\n",
    "    84,#Arkansas\n",
    "    72,#Arkansas State\n",
    "    71,#Army\n",
    "    80,#Auburn\n",
    "    82,#Ball State\n",
    "    88,#Boise State\n",
    "    92,#Boston College\n",
    "    72,#Bowling Green\n",
    "    86,#Buffalo\n",
    "    84,#California\n",
    "    82,#Central Florida\n",
    "    81,#Central Michigan\n",
    "    66,#Charlotte\n",
    "    86,#Cincinnati\n",
    "    88,#Clemson\n",
    "    81,#Coastal Carolina\n",
    "    77,#Colorado\n",
    "    80,#Colorado State\n",
    "    89,#Connecticut\n",
    "    96,#Duke\n",
    "    72,#East Carolina\n",
    "    73,#Eastern Michigan\n",
    "    93,#Florida\n",
    "    75,#Florida Atlantic\n",
    "    75,#Florida International\n",
    "    58,#Florida State\n",
    "    69,#Fresno State\n",
    "    59,#Georgia\n",
    "    64,#Georgia Southern\n",
    "    81,#Georgia State\n",
    "    85,#Georgia Tech\n",
    "    73,#Hawaii\n",
    "    68,#Houston\n",
    "    91,#Illinois\n",
    "    72,#Indiana\n",
    "    87,#Iowa\n",
    "    88,#Iowa State\n",
    "    83,#Kansas\n",
    "    93,#Kansas State\n",
    "    81,#Kent State\n",
    "    86,#Kentucky\n",
    "    67,#Liberty\n",
    "    63,#Louisiana Tech\n",
    "    74,#Louisiana-Lafayette\n",
    "    83,#Louisiana-Monroe\n",
    "    93,#Louisville\n",
    "    61,#LSU\n",
    "    81,#Marshall\n",
    "    83,#Maryland\n",
    "    70,#Massachusetts\n",
    "    90,#Memphis\n",
    "    78,#Miami (Fla.)\n",
    "    92,#Miami (Ohio)\n",
    "    96,#Michigan\n",
    "    84,#Michigan State\n",
    "    95,#Middle Tennessee\n",
    "    96,#Minnesota\n",
    "    73,#Mississippi\n",
    "    74,#Mississippi State\n",
    "    77,#Missouri\n",
    "    89,#Navy\n",
    "    90,#Nebraska\n",
    "    84,#Nevada\n",
    "    74,#Nevada-Las Vegas\n",
    "    65,#New Mexico\n",
    "    83,#New Mexico State\n",
    "    70,#North Carolina\n",
    "    74,#North Carolina State\n",
    "    83,#North Texas\n",
    "    82,#Northern Illinois\n",
    "    97,#Northwestern\n",
    "    91,#Notre Dame\n",
    "    91,#Ohio\n",
    "    81,#Ohio State\n",
    "    73,#Oklahoma\n",
    "    74,#Oklahoma State\n",
    "    70,#Old Dominion\n",
    "    73,#Oregon\n",
    "    82,#Oregon State\n",
    "    87,#Penn State\n",
    "    93,#Pittsburgh\n",
    "    82,#Purdue\n",
    "    71,#Rutgers\n",
    "    84,#San Diego State\n",
    "    67,#San Jose State\n",
    "    79,#South Alabama\n",
    "    89,#South Carolina\n",
    "    79,#South Florida\n",
    "    81,#Southern California\n",
    "    73,#Southern Mississippi\n",
    "    93,#Stanford\n",
    "    88,#Syracuse\n",
    "    84,#Tennessee\n",
    "    79,#Texas\n",
    "    74,#Texas A&M\n",
    "    70,#Texas Christian\n",
    "    70,#Texas State\n",
    "    76,#Texas Tech\n",
    "    85,#Texas-El Paso\n",
    "    83,#Texas-San Antonio\n",
    "    87,#Toledo\n",
    "    80,#Troy\n",
    "    87,#Tulane\n",
    "    69,#Tulsa\n",
    "    71,#UCLA\n",
    "    90,#Utah\n",
    "    89,#Utah State\n",
    "    95,#Vanderbilt\n",
    "    86,#Virginia\n",
    "    80,#Virginia Tech\n",
    "    89,#Wake Forest\n",
    "    85,#Washington\n",
    "    85,#Washington State\n",
    "    74,#West Virginia\n",
    "    74,#Western Kentucky\n",
    "    74,#Western Michigan\n",
    "    69,#Wisconsin\n",
    "    87,#Wyoming\n",
    "]"
   ]
  },
  {
   "cell_type": "code",
   "execution_count": 3070,
   "id": "ba3a9542",
   "metadata": {},
   "outputs": [],
   "source": [
    "#Inserting GSR into the dataframe.\n",
    "coaches.insert(2, 'gsr', gsr)"
   ]
  },
  {
   "cell_type": "code",
   "execution_count": 3071,
   "id": "a63c59ab",
   "metadata": {},
   "outputs": [],
   "source": [
    "#Freshman Graduation Rate\n",
    "# Creating a list of the scores\n",
    "fgr = [\n",
    "    89,#Air Force\n",
    "    76,#Akron\n",
    "    65,#Alabama\n",
    "    42,#Alabama at Birmingham\n",
    "    60,#Appalachian State\n",
    "    55,#Arizona\n",
    "    66,#Arizona State\n",
    "    57,#Arkansas\n",
    "    45,#Arkansas State\n",
    "    71,#Army\n",
    "    61,#Auburn\n",
    "    65,#Ball State\n",
    "    53,#Boise State\n",
    "    76,#Boston College\n",
    "    65,#Bowling Green\n",
    "    69,#Buffalo\n",
    "    76,#California\n",
    "    68,#Central Florida\n",
    "    73,#Central Michigan\n",
    "    55,#Charlotte\n",
    "    67,#Cincinnati\n",
    "    66,#Clemson\n",
    "    63,#Coastal Carolina\n",
    "    56,#Colorado\n",
    "    76,#Colorado State\n",
    "    78,#Connecticut\n",
    "    90,#Duke\n",
    "    67,#East Carolina\n",
    "    59,#Eastern Michigan\n",
    "    37,#Florida\n",
    "    60,#Florida Atlantic\n",
    "    59,#Florida International\n",
    "    43,#Florida State\n",
    "    58,#Fresno State\n",
    "    39,#Georgia\n",
    "    55,#Georgia Southern\n",
    "    70,#Georgia State\n",
    "    70,#Georgia Tech\n",
    "    47,#Hawaii\n",
    "    58,#Houston\n",
    "    79,#Illinois\n",
    "    51,#Indiana\n",
    "    65,#Iowa\n",
    "    70,#Iowa State\n",
    "    57,#Kansas\n",
    "    72,#Kansas State\n",
    "    59,#Kent State\n",
    "    56,#Kentucky\n",
    "    50,#Liberty\n",
    "    48,#Louisiana Tech\n",
    "    55,#Louisiana-Lafayette\n",
    "    65,#Louisiana-Monroe\n",
    "    82,#Louisville\n",
    "    28,#LSU\n",
    "    66,#Marshall\n",
    "    73,#Maryland\n",
    "    61,#Massachusetts\n",
    "    62,#Memphis\n",
    "    47,#Miami (Fla.)\n",
    "    77,#Miami (Ohio)\n",
    "    79,#Michigan\n",
    "    68,#Michigan State\n",
    "    64,#Middle Tennessee\n",
    "    78,#Minnesota\n",
    "    55,#Mississippi\n",
    "    62,#Mississippi State\n",
    "    55,#Missouri\n",
    "    89,#Navy\n",
    "    65,#Nebraska\n",
    "    62,#Nevada\n",
    "    61,#Nevada-Las Vegas\n",
    "    42,#New Mexico\n",
    "    63,#New Mexico State\n",
    "    51,#North Carolina\n",
    "    55,#North Carolina State\n",
    "    62,#North Texas\n",
    "    63,#Northern Illinois\n",
    "    94,#Northwestern\n",
    "    80,#Notre Dame\n",
    "    77,#Ohio\n",
    "    53,#Ohio State\n",
    "    51,#Oklahoma\n",
    "    57,#Oklahoma State\n",
    "    51,#Old Dominion\n",
    "    60,#Oregon\n",
    "    69,#Oregon State\n",
    "    71,#Penn State\n",
    "    64,#Pittsburgh\n",
    "    65,#Purdue\n",
    "    55,#Rutgers\n",
    "    69,#San Diego State\n",
    "    61,#San Jose State\n",
    "    57,#South Alabama\n",
    "    64,#South Carolina\n",
    "    61,#South Florida\n",
    "    60,#Southern California\n",
    "    56,#Southern Mississippi\n",
    "    88,#Stanford\n",
    "    76,#Syracuse\n",
    "    52,#Tennessee\n",
    "    62,#Texas\n",
    "    54,#Texas A&M\n",
    "    57,#Texas Christian\n",
    "    54,#Texas State\n",
    "    52,#Texas Tech\n",
    "    63,#Texas-El Paso\n",
    "    62,#Texas-San Antonio\n",
    "    67,#Toledo\n",
    "    65,#Troy\n",
    "    76,#Tulane\n",
    "    64,#Tulsa\n",
    "    54,#UCLA\n",
    "    69,#Utah\n",
    "    68,#Utah State\n",
    "    77,#Vanderbilt\n",
    "    71,#Virginia\n",
    "    68,#Virginia Tech\n",
    "    75,#Wake Forest\n",
    "    56,#Washington\n",
    "    56,#Washington State\n",
    "    60,#West Virginia\n",
    "    57,#Western Kentucky\n",
    "    40,#Western Michigan\n",
    "    56,#Wisconsin\n",
    "    52,#Wyoming\n",
    "]"
   ]
  },
  {
   "cell_type": "code",
   "execution_count": 3072,
   "id": "7d62e78f",
   "metadata": {},
   "outputs": [],
   "source": [
    "#inserting FGR into the dataframe.\n",
    "coaches.insert(2, 'fgr', fgr)"
   ]
  },
  {
   "cell_type": "code",
   "execution_count": 3073,
   "id": "3ad394cf",
   "metadata": {},
   "outputs": [
    {
     "data": {
      "text/html": [
       "<div>\n",
       "<style scoped>\n",
       "    .dataframe tbody tr th:only-of-type {\n",
       "        vertical-align: middle;\n",
       "    }\n",
       "\n",
       "    .dataframe tbody tr th {\n",
       "        vertical-align: top;\n",
       "    }\n",
       "\n",
       "    .dataframe thead th {\n",
       "        text-align: right;\n",
       "    }\n",
       "</style>\n",
       "<table border=\"1\" class=\"dataframe\">\n",
       "  <thead>\n",
       "    <tr style=\"text-align: right;\">\n",
       "      <th></th>\n",
       "      <th>School</th>\n",
       "      <th>Conference</th>\n",
       "      <th>fgr</th>\n",
       "      <th>gsr</th>\n",
       "      <th>stadium_capacity</th>\n",
       "      <th>Coach</th>\n",
       "      <th>TotalPay</th>\n",
       "    </tr>\n",
       "  </thead>\n",
       "  <tbody>\n",
       "    <tr>\n",
       "      <th>0</th>\n",
       "      <td>Air Force</td>\n",
       "      <td>Mt. West</td>\n",
       "      <td>89</td>\n",
       "      <td>89</td>\n",
       "      <td>46692</td>\n",
       "      <td>Troy Calhoun</td>\n",
       "      <td>885000</td>\n",
       "    </tr>\n",
       "    <tr>\n",
       "      <th>1</th>\n",
       "      <td>Akron</td>\n",
       "      <td>MAC</td>\n",
       "      <td>76</td>\n",
       "      <td>79</td>\n",
       "      <td>30000</td>\n",
       "      <td>Terry Bowden</td>\n",
       "      <td>412500</td>\n",
       "    </tr>\n",
       "    <tr>\n",
       "      <th>2</th>\n",
       "      <td>Alabama</td>\n",
       "      <td>SEC</td>\n",
       "      <td>65</td>\n",
       "      <td>86</td>\n",
       "      <td>100077</td>\n",
       "      <td>Nick Saban</td>\n",
       "      <td>8307000</td>\n",
       "    </tr>\n",
       "    <tr>\n",
       "      <th>3</th>\n",
       "      <td>Alabama at Birmingham</td>\n",
       "      <td>C-USA</td>\n",
       "      <td>42</td>\n",
       "      <td>69</td>\n",
       "      <td>71594</td>\n",
       "      <td>Bill Clark</td>\n",
       "      <td>900000</td>\n",
       "    </tr>\n",
       "    <tr>\n",
       "      <th>4</th>\n",
       "      <td>Appalachian State</td>\n",
       "      <td>Sun Belt</td>\n",
       "      <td>60</td>\n",
       "      <td>78</td>\n",
       "      <td>60000</td>\n",
       "      <td>Scott Satterfield</td>\n",
       "      <td>712500</td>\n",
       "    </tr>\n",
       "  </tbody>\n",
       "</table>\n",
       "</div>"
      ],
      "text/plain": [
       "                  School Conference  fgr  gsr  stadium_capacity  \\\n",
       "0              Air Force   Mt. West   89   89             46692   \n",
       "1                  Akron        MAC   76   79             30000   \n",
       "2                Alabama        SEC   65   86            100077   \n",
       "3  Alabama at Birmingham      C-USA   42   69             71594   \n",
       "4      Appalachian State   Sun Belt   60   78             60000   \n",
       "\n",
       "               Coach  TotalPay  \n",
       "0       Troy Calhoun    885000  \n",
       "1       Terry Bowden    412500  \n",
       "2         Nick Saban   8307000  \n",
       "3         Bill Clark    900000  \n",
       "4  Scott Satterfield    712500  "
      ]
     },
     "execution_count": 3073,
     "metadata": {},
     "output_type": "execute_result"
    }
   ],
   "source": [
    "#Checking the New Dataframe\n",
    "coaches.head()"
   ]
  },
  {
   "cell_type": "markdown",
   "id": "71ea02e3",
   "metadata": {},
   "source": [
    "##### Win/loss Record  "
   ]
  },
  {
   "cell_type": "markdown",
   "id": "e9ee587d",
   "metadata": {},
   "source": [
    "Information gathered frrom https://betiq.teamrankings.com/college-football/betting-trends/win-loss-records/?season=2021.  The third way of adding data used was to create a excel file which will be submitted along with this markdown and read it into python as a pandas data frame.  Using a inner join on school the data is merged and then the columns were fixed to have the final data frame."
   ]
  },
  {
   "cell_type": "code",
   "execution_count": 3074,
   "id": "e9b5e9d7",
   "metadata": {},
   "outputs": [],
   "source": [
    "# Importing the Win loss data set using pandas (Created in excel will provide seperately)\n",
    "# Done as another way to showcase how to bring in and combine data\n",
    "import pandas as pd\n",
    "win_loss = pd.read_csv(r\"C:\\Users\\Morga\\programsMG\\Big_Analytics\\Win_Lose.csv\")"
   ]
  },
  {
   "cell_type": "code",
   "execution_count": 3075,
   "id": "9431d4e3",
   "metadata": {},
   "outputs": [
    {
     "data": {
      "text/html": [
       "<div>\n",
       "<style scoped>\n",
       "    .dataframe tbody tr th:only-of-type {\n",
       "        vertical-align: middle;\n",
       "    }\n",
       "\n",
       "    .dataframe tbody tr th {\n",
       "        vertical-align: top;\n",
       "    }\n",
       "\n",
       "    .dataframe thead th {\n",
       "        text-align: right;\n",
       "    }\n",
       "</style>\n",
       "<table border=\"1\" class=\"dataframe\">\n",
       "  <thead>\n",
       "    <tr style=\"text-align: right;\">\n",
       "      <th></th>\n",
       "      <th>School</th>\n",
       "      <th>win</th>\n",
       "      <th>loss</th>\n",
       "      <th>win_percent</th>\n",
       "    </tr>\n",
       "  </thead>\n",
       "  <tbody>\n",
       "    <tr>\n",
       "      <th>0</th>\n",
       "      <td>Air Force</td>\n",
       "      <td>10</td>\n",
       "      <td>3</td>\n",
       "      <td>76.9</td>\n",
       "    </tr>\n",
       "    <tr>\n",
       "      <th>1</th>\n",
       "      <td>Akron</td>\n",
       "      <td>2</td>\n",
       "      <td>10</td>\n",
       "      <td>16.7</td>\n",
       "    </tr>\n",
       "    <tr>\n",
       "      <th>2</th>\n",
       "      <td>Alabama</td>\n",
       "      <td>13</td>\n",
       "      <td>2</td>\n",
       "      <td>86.7</td>\n",
       "    </tr>\n",
       "    <tr>\n",
       "      <th>3</th>\n",
       "      <td>Alabama at Birmingham</td>\n",
       "      <td>9</td>\n",
       "      <td>4</td>\n",
       "      <td>69.2</td>\n",
       "    </tr>\n",
       "    <tr>\n",
       "      <th>4</th>\n",
       "      <td>Appalachian State</td>\n",
       "      <td>9</td>\n",
       "      <td>3</td>\n",
       "      <td>75.0</td>\n",
       "    </tr>\n",
       "  </tbody>\n",
       "</table>\n",
       "</div>"
      ],
      "text/plain": [
       "                  School  win  loss  win_percent\n",
       "0              Air Force   10     3         76.9\n",
       "1                  Akron    2    10         16.7\n",
       "2                Alabama   13     2         86.7\n",
       "3  Alabama at Birmingham    9     4         69.2\n",
       "4      Appalachian State    9     3         75.0"
      ]
     },
     "execution_count": 3075,
     "metadata": {},
     "output_type": "execute_result"
    }
   ],
   "source": [
    "#Checking data frame\n",
    "win_loss.head()"
   ]
  },
  {
   "cell_type": "code",
   "execution_count": 3076,
   "id": "88f43016",
   "metadata": {},
   "outputs": [],
   "source": [
    "#setting the index to school\n",
    "coaches.set_index('School',inplace=True)"
   ]
  },
  {
   "cell_type": "code",
   "execution_count": 3077,
   "id": "ca294d21",
   "metadata": {},
   "outputs": [],
   "source": [
    "#setting the index to school\n",
    "win_loss.set_index('School',inplace=True)"
   ]
  },
  {
   "cell_type": "code",
   "execution_count": 3078,
   "id": "a135247d",
   "metadata": {},
   "outputs": [],
   "source": [
    "#Preforming an inner join using merge\n",
    "df=pd.merge(coaches, win_loss, left_index=True, right_index=True)"
   ]
  },
  {
   "cell_type": "code",
   "execution_count": 3079,
   "id": "35efcbe3",
   "metadata": {},
   "outputs": [
    {
     "data": {
      "text/html": [
       "<div>\n",
       "<style scoped>\n",
       "    .dataframe tbody tr th:only-of-type {\n",
       "        vertical-align: middle;\n",
       "    }\n",
       "\n",
       "    .dataframe tbody tr th {\n",
       "        vertical-align: top;\n",
       "    }\n",
       "\n",
       "    .dataframe thead th {\n",
       "        text-align: right;\n",
       "    }\n",
       "</style>\n",
       "<table border=\"1\" class=\"dataframe\">\n",
       "  <thead>\n",
       "    <tr style=\"text-align: right;\">\n",
       "      <th></th>\n",
       "      <th>Conference</th>\n",
       "      <th>fgr</th>\n",
       "      <th>gsr</th>\n",
       "      <th>stadium_capacity</th>\n",
       "      <th>Coach</th>\n",
       "      <th>TotalPay</th>\n",
       "      <th>win</th>\n",
       "      <th>loss</th>\n",
       "      <th>win_percent</th>\n",
       "    </tr>\n",
       "    <tr>\n",
       "      <th>School</th>\n",
       "      <th></th>\n",
       "      <th></th>\n",
       "      <th></th>\n",
       "      <th></th>\n",
       "      <th></th>\n",
       "      <th></th>\n",
       "      <th></th>\n",
       "      <th></th>\n",
       "      <th></th>\n",
       "    </tr>\n",
       "  </thead>\n",
       "  <tbody>\n",
       "    <tr>\n",
       "      <th>Air Force</th>\n",
       "      <td>Mt. West</td>\n",
       "      <td>89</td>\n",
       "      <td>89</td>\n",
       "      <td>46692</td>\n",
       "      <td>Troy Calhoun</td>\n",
       "      <td>885000</td>\n",
       "      <td>10</td>\n",
       "      <td>3</td>\n",
       "      <td>76.9</td>\n",
       "    </tr>\n",
       "    <tr>\n",
       "      <th>Akron</th>\n",
       "      <td>MAC</td>\n",
       "      <td>76</td>\n",
       "      <td>79</td>\n",
       "      <td>30000</td>\n",
       "      <td>Terry Bowden</td>\n",
       "      <td>412500</td>\n",
       "      <td>2</td>\n",
       "      <td>10</td>\n",
       "      <td>16.7</td>\n",
       "    </tr>\n",
       "    <tr>\n",
       "      <th>Alabama</th>\n",
       "      <td>SEC</td>\n",
       "      <td>65</td>\n",
       "      <td>86</td>\n",
       "      <td>100077</td>\n",
       "      <td>Nick Saban</td>\n",
       "      <td>8307000</td>\n",
       "      <td>13</td>\n",
       "      <td>2</td>\n",
       "      <td>86.7</td>\n",
       "    </tr>\n",
       "    <tr>\n",
       "      <th>Alabama at Birmingham</th>\n",
       "      <td>C-USA</td>\n",
       "      <td>42</td>\n",
       "      <td>69</td>\n",
       "      <td>71594</td>\n",
       "      <td>Bill Clark</td>\n",
       "      <td>900000</td>\n",
       "      <td>9</td>\n",
       "      <td>4</td>\n",
       "      <td>69.2</td>\n",
       "    </tr>\n",
       "    <tr>\n",
       "      <th>Appalachian State</th>\n",
       "      <td>Sun Belt</td>\n",
       "      <td>60</td>\n",
       "      <td>78</td>\n",
       "      <td>60000</td>\n",
       "      <td>Scott Satterfield</td>\n",
       "      <td>712500</td>\n",
       "      <td>9</td>\n",
       "      <td>3</td>\n",
       "      <td>75.0</td>\n",
       "    </tr>\n",
       "  </tbody>\n",
       "</table>\n",
       "</div>"
      ],
      "text/plain": [
       "                      Conference  fgr  gsr  stadium_capacity  \\\n",
       "School                                                         \n",
       "Air Force               Mt. West   89   89             46692   \n",
       "Akron                        MAC   76   79             30000   \n",
       "Alabama                      SEC   65   86            100077   \n",
       "Alabama at Birmingham      C-USA   42   69             71594   \n",
       "Appalachian State       Sun Belt   60   78             60000   \n",
       "\n",
       "                                   Coach  TotalPay  win  loss  win_percent  \n",
       "School                                                                      \n",
       "Air Force                   Troy Calhoun    885000   10     3         76.9  \n",
       "Akron                       Terry Bowden    412500    2    10         16.7  \n",
       "Alabama                       Nick Saban   8307000   13     2         86.7  \n",
       "Alabama at Birmingham         Bill Clark    900000    9     4         69.2  \n",
       "Appalachian State      Scott Satterfield    712500    9     3         75.0  "
      ]
     },
     "execution_count": 3079,
     "metadata": {},
     "output_type": "execute_result"
    }
   ],
   "source": [
    "# checking the data set with all new data added.\n",
    "df.head()"
   ]
  },
  {
   "cell_type": "code",
   "execution_count": 3080,
   "id": "d105cca4",
   "metadata": {},
   "outputs": [
    {
     "data": {
      "text/plain": [
       "125"
      ]
     },
     "execution_count": 3080,
     "metadata": {},
     "output_type": "execute_result"
    }
   ],
   "source": [
    "#Checking the length to make sure no rows were lost\n",
    "len(df)"
   ]
  },
  {
   "cell_type": "markdown",
   "id": "b110b0f2",
   "metadata": {},
   "source": [
    "# Running basic Statistics"
   ]
  },
  {
   "cell_type": "code",
   "execution_count": 3081,
   "id": "01a2dac2",
   "metadata": {},
   "outputs": [
    {
     "name": "stdout",
     "output_type": "stream",
     "text": [
      "<class 'pandas.core.frame.DataFrame'>\n",
      "Index: 125 entries, Air Force to Wyoming\n",
      "Data columns (total 9 columns):\n",
      " #   Column            Non-Null Count  Dtype  \n",
      "---  ------            --------------  -----  \n",
      " 0   Conference        125 non-null    object \n",
      " 1   fgr               125 non-null    int64  \n",
      " 2   gsr               125 non-null    int64  \n",
      " 3   stadium_capacity  125 non-null    int64  \n",
      " 4   Coach             125 non-null    object \n",
      " 5   TotalPay          125 non-null    int64  \n",
      " 6   win               125 non-null    int64  \n",
      " 7   loss              125 non-null    int64  \n",
      " 8   win_percent       125 non-null    float64\n",
      "dtypes: float64(1), int64(6), object(2)\n",
      "memory usage: 13.8+ KB\n"
     ]
    }
   ],
   "source": [
    "#checking basic info including NA Values\n",
    "df.info()"
   ]
  },
  {
   "cell_type": "code",
   "execution_count": 3082,
   "id": "b8c5c389",
   "metadata": {},
   "outputs": [
    {
     "data": {
      "text/html": [
       "<div>\n",
       "<style scoped>\n",
       "    .dataframe tbody tr th:only-of-type {\n",
       "        vertical-align: middle;\n",
       "    }\n",
       "\n",
       "    .dataframe tbody tr th {\n",
       "        vertical-align: top;\n",
       "    }\n",
       "\n",
       "    .dataframe thead th {\n",
       "        text-align: right;\n",
       "    }\n",
       "</style>\n",
       "<table border=\"1\" class=\"dataframe\">\n",
       "  <thead>\n",
       "    <tr style=\"text-align: right;\">\n",
       "      <th></th>\n",
       "      <th>fgr</th>\n",
       "      <th>gsr</th>\n",
       "      <th>stadium_capacity</th>\n",
       "      <th>TotalPay</th>\n",
       "      <th>win</th>\n",
       "      <th>loss</th>\n",
       "      <th>win_percent</th>\n",
       "    </tr>\n",
       "  </thead>\n",
       "  <tbody>\n",
       "    <tr>\n",
       "      <th>count</th>\n",
       "      <td>125.00000</td>\n",
       "      <td>125.00000</td>\n",
       "      <td>125.00000</td>\n",
       "      <td>125.00000</td>\n",
       "      <td>125.00000</td>\n",
       "      <td>125.00000</td>\n",
       "      <td>125.00000</td>\n",
       "    </tr>\n",
       "    <tr>\n",
       "      <th>mean</th>\n",
       "      <td>62.62400</td>\n",
       "      <td>80.29600</td>\n",
       "      <td>50996.96000</td>\n",
       "      <td>2417060.76000</td>\n",
       "      <td>6.60800</td>\n",
       "      <td>6.11200</td>\n",
       "      <td>50.97360</td>\n",
       "    </tr>\n",
       "    <tr>\n",
       "      <th>std</th>\n",
       "      <td>11.38524</td>\n",
       "      <td>8.86823</td>\n",
       "      <td>22665.48872</td>\n",
       "      <td>1885752.30454</td>\n",
       "      <td>3.14667</td>\n",
       "      <td>2.57223</td>\n",
       "      <td>22.17809</td>\n",
       "    </tr>\n",
       "    <tr>\n",
       "      <th>min</th>\n",
       "      <td>28.00000</td>\n",
       "      <td>58.00000</td>\n",
       "      <td>15314.00000</td>\n",
       "      <td>390000.00000</td>\n",
       "      <td>1.00000</td>\n",
       "      <td>1.00000</td>\n",
       "      <td>8.30000</td>\n",
       "    </tr>\n",
       "    <tr>\n",
       "      <th>25%</th>\n",
       "      <td>55.00000</td>\n",
       "      <td>73.00000</td>\n",
       "      <td>30600.00000</td>\n",
       "      <td>805850.00000</td>\n",
       "      <td>4.00000</td>\n",
       "      <td>4.00000</td>\n",
       "      <td>33.30000</td>\n",
       "    </tr>\n",
       "    <tr>\n",
       "      <th>50%</th>\n",
       "      <td>62.00000</td>\n",
       "      <td>81.00000</td>\n",
       "      <td>49225.00000</td>\n",
       "      <td>1900008.00000</td>\n",
       "      <td>7.00000</td>\n",
       "      <td>6.00000</td>\n",
       "      <td>53.80000</td>\n",
       "    </tr>\n",
       "    <tr>\n",
       "      <th>75%</th>\n",
       "      <td>69.00000</td>\n",
       "      <td>87.00000</td>\n",
       "      <td>68349.00000</td>\n",
       "      <td>3617500.00000</td>\n",
       "      <td>9.00000</td>\n",
       "      <td>8.00000</td>\n",
       "      <td>69.20000</td>\n",
       "    </tr>\n",
       "    <tr>\n",
       "      <th>max</th>\n",
       "      <td>94.00000</td>\n",
       "      <td>97.00000</td>\n",
       "      <td>107282.00000</td>\n",
       "      <td>8307000.00000</td>\n",
       "      <td>14.00000</td>\n",
       "      <td>11.00000</td>\n",
       "      <td>93.30000</td>\n",
       "    </tr>\n",
       "  </tbody>\n",
       "</table>\n",
       "</div>"
      ],
      "text/plain": [
       "             fgr        gsr stadium_capacity       TotalPay        win  \\\n",
       "count  125.00000  125.00000        125.00000      125.00000  125.00000   \n",
       "mean    62.62400   80.29600      50996.96000  2417060.76000    6.60800   \n",
       "std     11.38524    8.86823      22665.48872  1885752.30454    3.14667   \n",
       "min     28.00000   58.00000      15314.00000   390000.00000    1.00000   \n",
       "25%     55.00000   73.00000      30600.00000   805850.00000    4.00000   \n",
       "50%     62.00000   81.00000      49225.00000  1900008.00000    7.00000   \n",
       "75%     69.00000   87.00000      68349.00000  3617500.00000    9.00000   \n",
       "max     94.00000   97.00000     107282.00000  8307000.00000   14.00000   \n",
       "\n",
       "            loss win_percent  \n",
       "count  125.00000   125.00000  \n",
       "mean     6.11200    50.97360  \n",
       "std      2.57223    22.17809  \n",
       "min      1.00000     8.30000  \n",
       "25%      4.00000    33.30000  \n",
       "50%      6.00000    53.80000  \n",
       "75%      8.00000    69.20000  \n",
       "max     11.00000    93.30000  "
      ]
     },
     "execution_count": 3082,
     "metadata": {},
     "output_type": "execute_result"
    }
   ],
   "source": [
    "#checking basic statistics\n",
    "df.describe().apply(lambda s: s.apply('{0:.5f}'.format))"
   ]
  },
  {
   "cell_type": "markdown",
   "id": "1ee06646",
   "metadata": {},
   "source": [
    "# Exploritory Data Analysis (EDA)"
   ]
  },
  {
   "cell_type": "code",
   "execution_count": 3083,
   "id": "3cf1ca7b",
   "metadata": {},
   "outputs": [],
   "source": [
    "import matplotlib\n",
    "#setting the graph parameters (size)\n",
    "plt.rcParams[\"figure.figsize\"] = (6,4)"
   ]
  },
  {
   "cell_type": "markdown",
   "id": "369ccc52",
   "metadata": {},
   "source": [
    "An exploritoy data analysis was prefromed using graphs to gain information about the data and how it could effect the responses from the model."
   ]
  },
  {
   "cell_type": "markdown",
   "id": "1ec95f71",
   "metadata": {},
   "source": [
    "##### Histogram by conference"
   ]
  },
  {
   "cell_type": "code",
   "execution_count": 3084,
   "id": "bcf73db7",
   "metadata": {},
   "outputs": [
    {
     "data": {
      "image/png": "[encoded data removed]",
      "text/plain": [
       "<Figure size 2880x504 with 1 Axes>"
      ]
     },
     "metadata": {
      "needs_background": "light"
     },
     "output_type": "display_data"
    }
   ],
   "source": [
    "import matplotlib.pyplot as plt\n",
    "names =df['Conference'].value_counts(ascending=True).index\n",
    "values = df['Conference'].value_counts(ascending=True)\n",
    "colors = ['orange', 'yellow', 'red', 'blue', 'purple','lightgreen','tan','black','cyan','lightblue','darkgreen']\n",
    "plt.figure(figsize=(40,7))\n",
    "\n",
    "plt.subplot(131)\n",
    "plt.bar(names,values,color=colors)\n",
    "plt.xticks(rotation=320)\n",
    "plt.ylabel('Frequncey')\n",
    "plt.xlabel('Conference')\n",
    "plt.title('Histogram of Conference')\n",
    "plt.show()"
   ]
  },
  {
   "cell_type": "markdown",
   "id": "3f247d26",
   "metadata": {},
   "source": [
    "##### Boxplot confrence and totalpay"
   ]
  },
  {
   "cell_type": "code",
   "execution_count": 3085,
   "id": "01dcc189",
   "metadata": {},
   "outputs": [],
   "source": [
    "Ind =df[df['Conference']=='Ind.']\n",
    "Big_12 =df[df['Conference']=='Big 12']\n",
    "AAC =df[df['Conference']=='AAC']\n",
    "Sun_Belt =df[df['Conference']=='Sun Belt']\n",
    "MAC =df[df['Conference']=='MAC']\n",
    "Mt_West =df[df['Conference']=='Mt. West']\n",
    "C_USA =df[df['Conference']=='C-USA']       \n",
    "Pac_12 =df[df['Conference']=='Pac-12']\n",
    "Big_Ten =df[df['Conference']=='Big Ten']\n",
    "ACC =df[df['Conference']=='ACC']\n",
    "SEC =df[df['Conference']=='SEC']"
   ]
  },
  {
   "cell_type": "code",
   "execution_count": 3086,
   "id": "7855fe6e",
   "metadata": {},
   "outputs": [
    {
     "data": {
      "text/plain": [
       "<function matplotlib.pyplot.show(close=None, block=None)>"
      ]
     },
     "execution_count": 3086,
     "metadata": {},
     "output_type": "execute_result"
    },
    {
     "data": {
      "image/png": "[encoded data removed]",
      "text/plain": [
       "<Figure size 864x504 with 1 Axes>"
      ]
     },
     "metadata": {
      "needs_background": "light"
     },
     "output_type": "display_data"
    }
   ],
   "source": [
    "conferences = [Ind['TotalPay'],Big_12['TotalPay'],AAC['TotalPay'],Sun_Belt['TotalPay'],MAC['TotalPay'],Mt_West['TotalPay'],\n",
    "               C_USA['TotalPay'],Pac_12['TotalPay'],Big_Ten['TotalPay'],ACC['TotalPay'],SEC['TotalPay'],]\n",
    "ticks=range(1,12)\n",
    "labels =['Ind.', 'Big 12', 'AAC', 'Sun Belt', 'MAC', 'Mt. West', 'C-USA',\n",
    "       'Pac-12', 'Big Ten', 'ACC', 'SEC']\n",
    "colors = ['orange', 'yellow', 'red', 'blue', 'purple','lightgreen','tan','black','cyan','lightblue','darkgreen']\n",
    "fig = plt.figure(figsize=(12,7))\n",
    "\n",
    "\n",
    "\n",
    "box=plt.boxplot(conferences, patch_artist=True)\n",
    "\n",
    "for patch, color in zip(box['boxes'], colors):\n",
    "    patch.set_facecolor(color)\n",
    "\n",
    "plt.xticks(ticks,labels)\n",
    "plt.ylabel('Dollars in Millions')\n",
    "plt.xlabel('Conference')\n",
    "plt.title('Total Pay per Conference')\n",
    "plt.show"
   ]
  },
  {
   "cell_type": "markdown",
   "id": "f20b1880",
   "metadata": {},
   "source": [
    "When looking at the histogram of teams per conference next to the boxplot of total pay according to conference. (Color coded by conference) of the higher paid conferences there are more teams in the data set.  This will lead to our model being skewed to the towards higher pay overall. "
   ]
  },
  {
   "cell_type": "markdown",
   "id": "056e933c",
   "metadata": {},
   "source": [
    "##### Win Count"
   ]
  },
  {
   "cell_type": "code",
   "execution_count": 3087,
   "id": "b708bdfd",
   "metadata": {},
   "outputs": [
    {
     "data": {
      "text/plain": [
       "<function matplotlib.pyplot.show(close=None, block=None)>"
      ]
     },
     "execution_count": 3087,
     "metadata": {},
     "output_type": "execute_result"
    },
    {
     "data": {
      "image/png": "[encoded data removed]",
      "text/plain": [
       "<Figure size 432x288 with 1 Axes>"
      ]
     },
     "metadata": {
      "needs_background": "light"
     },
     "output_type": "display_data"
    }
   ],
   "source": [
    "plt.hist(df['win'],color='salmon')\n",
    "plt.ylabel('Number of Teams')\n",
    "plt.xlabel('Number of Wins')\n",
    "plt.title('Games Won Per Team')\n",
    "\n",
    "plt.show"
   ]
  },
  {
   "cell_type": "code",
   "execution_count": 3088,
   "id": "1208b340",
   "metadata": {},
   "outputs": [
    {
     "data": {
      "text/plain": [
       "<function matplotlib.pyplot.show(close=None, block=None)>"
      ]
     },
     "execution_count": 3088,
     "metadata": {},
     "output_type": "execute_result"
    },
    {
     "data": {
      "image/png": "[encoded data removed]",
      "text/plain": [
       "<Figure size 432x288 with 1 Axes>"
      ]
     },
     "metadata": {
      "needs_background": "light"
     },
     "output_type": "display_data"
    }
   ],
   "source": [
    "plt.scatter(df['win'],df['TotalPay'],color='salmon')\n",
    "plt.ylabel('Dollars in Millions')\n",
    "plt.xlabel('Games won')\n",
    "plt.title('Number of wins vs Total Pay')\n",
    "plt.show"
   ]
  },
  {
   "cell_type": "markdown",
   "id": "a805e7d7",
   "metadata": {},
   "source": [
    "The win distribution is normal but there seems to be no correlation for games won and coaches pay."
   ]
  },
  {
   "cell_type": "markdown",
   "id": "41070c8d",
   "metadata": {},
   "source": [
    "##### Stadium Capacity "
   ]
  },
  {
   "cell_type": "code",
   "execution_count": 3089,
   "id": "c9cddcce",
   "metadata": {},
   "outputs": [
    {
     "data": {
      "text/plain": [
       "<function matplotlib.pyplot.show(close=None, block=None)>"
      ]
     },
     "execution_count": 3089,
     "metadata": {},
     "output_type": "execute_result"
    },
    {
     "data": {
      "image/png": "[encoded data removed]",
      "text/plain": [
       "<Figure size 432x288 with 1 Axes>"
      ]
     },
     "metadata": {
      "needs_background": "light"
     },
     "output_type": "display_data"
    }
   ],
   "source": [
    "plt.hist(df['stadium_capacity'],color='violet')\n",
    "plt.ylabel('Frequency')\n",
    "plt.xlabel('Stadium Capacity')\n",
    "plt.title('Distribution of stadium Capacity')\n",
    "plt.show"
   ]
  },
  {
   "cell_type": "code",
   "execution_count": 3090,
   "id": "0f8a38a7",
   "metadata": {},
   "outputs": [
    {
     "data": {
      "text/plain": [
       "<function matplotlib.pyplot.show(close=None, block=None)>"
      ]
     },
     "execution_count": 3090,
     "metadata": {},
     "output_type": "execute_result"
    },
    {
     "data": {
      "image/png": "[encoded data removed]",
      "text/plain": [
       "<Figure size 432x288 with 1 Axes>"
      ]
     },
     "metadata": {
      "needs_background": "light"
     },
     "output_type": "display_data"
    }
   ],
   "source": [
    "plt.scatter(df['stadium_capacity'],df['TotalPay'],color='violet')\n",
    "plt.ylabel('Dollars in Millions')\n",
    "plt.xlabel('Stadium Capacity')\n",
    "plt.title('Total Pay vs Stadium Capacity')\n",
    "plt.show"
   ]
  },
  {
   "cell_type": "markdown",
   "id": "dffa3148",
   "metadata": {},
   "source": [
    "The distribution seems to be noraml with a skewwed right side.  This probably new stadiums built recently and addons to exsisting stadiums.  This was seen being spoken about much during the information gathering phase.  This will lead to higher predicted salarys as well.  When looking at the TotalPay vs stadium_capacity we can see these two are correlated and the bigger the stadium the higher the pay of the coach."
   ]
  },
  {
   "cell_type": "markdown",
   "id": "7a3f73d7",
   "metadata": {},
   "source": [
    "##### gsr "
   ]
  },
  {
   "cell_type": "code",
   "execution_count": 3091,
   "id": "36cd6e4b",
   "metadata": {},
   "outputs": [
    {
     "data": {
      "text/plain": [
       "<function matplotlib.pyplot.show(close=None, block=None)>"
      ]
     },
     "execution_count": 3091,
     "metadata": {},
     "output_type": "execute_result"
    },
    {
     "data": {
      "image/png": "[encoded data removed]",
      "text/plain": [
       "<Figure size 432x288 with 1 Axes>"
      ]
     },
     "metadata": {
      "needs_background": "light"
     },
     "output_type": "display_data"
    }
   ],
   "source": [
    "plt.hist(df['gsr'],color = 'goldenrod')\n",
    "plt.ylabel('Number of Colleges')\n",
    "plt.xlabel('gsr (Graduation Success Rate)')\n",
    "plt.title('Distribution of gsr')\n",
    "plt.show"
   ]
  },
  {
   "cell_type": "code",
   "execution_count": 3092,
   "id": "59480866",
   "metadata": {},
   "outputs": [
    {
     "data": {
      "text/plain": [
       "<function matplotlib.pyplot.show(close=None, block=None)>"
      ]
     },
     "execution_count": 3092,
     "metadata": {},
     "output_type": "execute_result"
    },
    {
     "data": {
      "image/png": "[encoded data removed]",
      "text/plain": [
       "<Figure size 432x288 with 1 Axes>"
      ]
     },
     "metadata": {
      "needs_background": "light"
     },
     "output_type": "display_data"
    }
   ],
   "source": [
    "plt.scatter(df['gsr'],df['TotalPay'],color = 'goldenrod')\n",
    "plt.ylabel('Dollars in Millions')\n",
    "plt.xlabel('gsr (Graduation Success Rate)')\n",
    "plt.title('TotalPay vs gsr')\n",
    "plt.show"
   ]
  },
  {
   "cell_type": "markdown",
   "id": "350baef1",
   "metadata": {},
   "source": [
    "The distribution of gsr is normal there seems to be not much correlation with gsr and TotalPay."
   ]
  },
  {
   "cell_type": "markdown",
   "id": "13391a19",
   "metadata": {},
   "source": [
    "##### fgr"
   ]
  },
  {
   "cell_type": "code",
   "execution_count": 3093,
   "id": "a5c1dfb0",
   "metadata": {},
   "outputs": [
    {
     "data": {
      "text/plain": [
       "<function matplotlib.pyplot.show(close=None, block=None)>"
      ]
     },
     "execution_count": 3093,
     "metadata": {},
     "output_type": "execute_result"
    },
    {
     "data": {
      "image/png": "[encoded data removed]",
      "text/plain": [
       "<Figure size 432x288 with 1 Axes>"
      ]
     },
     "metadata": {
      "needs_background": "light"
     },
     "output_type": "display_data"
    }
   ],
   "source": [
    "plt.hist(df['fgr'],color = 'mediumseagreen')\n",
    "plt.ylabel('Number of Colleges')\n",
    "plt.xlabel('fgr (Federal Graduation Rate aka Feshman Graduation Rate)')\n",
    "plt.title('Distribution of fgr')\n",
    "plt.show"
   ]
  },
  {
   "cell_type": "code",
   "execution_count": 3094,
   "id": "f4a7ca5d",
   "metadata": {},
   "outputs": [
    {
     "data": {
      "text/plain": [
       "Text(0.5, 1.0, 'TotalPay vs fgr')"
      ]
     },
     "execution_count": 3094,
     "metadata": {},
     "output_type": "execute_result"
    },
    {
     "data": {
      "image/png": "[encoded data removed]",
      "text/plain": [
       "<Figure size 432x288 with 1 Axes>"
      ]
     },
     "metadata": {
      "needs_background": "light"
     },
     "output_type": "display_data"
    }
   ],
   "source": [
    "plt.scatter(df['fgr'],df['TotalPay'],color = 'mediumseagreen')\n",
    "plt.ylabel('Dollars in Millions')\n",
    "plt.xlabel('fgr (Federal Graduation Rate aka Feshman Graduation Rate)')\n",
    "plt.title('TotalPay vs fgr')"
   ]
  },
  {
   "cell_type": "markdown",
   "id": "e00c15fc",
   "metadata": {},
   "source": [
    "The fgr is a normal distribution and there is even less correlation with TotalPay compared to gsr."
   ]
  },
  {
   "cell_type": "markdown",
   "id": "a88318e7",
   "metadata": {},
   "source": [
    "##### Correlation Heat Map"
   ]
  },
  {
   "cell_type": "code",
   "execution_count": 3095,
   "id": "34b7ca1f",
   "metadata": {},
   "outputs": [
    {
     "name": "stderr",
     "output_type": "stream",
     "text": [
      "C:\\Users\\Morga\\AppData\\Local\\Temp\\ipykernel_23804\\2695585881.py:6: DeprecationWarning: `np.bool` is a deprecated alias for the builtin `bool`. To silence this warning, use `bool` by itself. Doing this will not modify any behavior and is safe. If you specifically wanted the numpy scalar type, use `np.bool_` here.\n",
      "Deprecated in NumPy 1.20; for more details and guidance: https://numpy.org/devdocs/release/1.20.0-notes.html#deprecations\n",
      "  mask = np.zeros_like(corr, dtype=np.bool)\n"
     ]
    },
    {
     "data": {
      "image/png": "[encoded data removed]",
      "text/plain": [
       "<Figure size 432x288 with 2 Axes>"
      ]
     },
     "metadata": {
      "needs_background": "light"
     },
     "output_type": "display_data"
    }
   ],
   "source": [
    "import seaborn as sns\n",
    "\n",
    "corr = df.corr()\n",
    "\n",
    "# Generate a mask for the upper triangle\n",
    "mask = np.zeros_like(corr, dtype=np.bool)\n",
    "mask[np.triu_indices_from(mask)] = True\n",
    "\n",
    "# Set up the matplotlib figure\n",
    "#f, ax = plt.subplots(figsize=(11, 9))\n",
    "\n",
    "# Generate a custom diverging colormap\n",
    "cmap = sns.diverging_palette(220, 10, as_cmap=True)\n",
    "\n",
    "# Draw the heatmap with the mask and correct aspect ratio\n",
    "sns.heatmap(corr, mask=mask, cmap=cmap, vmax=.3, center=0,\n",
    "            square=True, linewidths=.5, cbar_kws={\"shrink\": .5})\n",
    "plt.show()"
   ]
  },
  {
   "cell_type": "markdown",
   "id": "6fe8d544",
   "metadata": {},
   "source": [
    "There is negative correlation with wins and losses which makes sence as there is a set number of games.  We see a correlation between TotalPay except for loss which is negative which is to be expected.  There is however a negative correlation with fgr and TotalPay this is not expected and indicates fgr will probably be an issue when running the models and not preform as a good predictor."
   ]
  },
  {
   "cell_type": "markdown",
   "id": "912a7bab",
   "metadata": {},
   "source": [
    "# Splitting the data"
   ]
  },
  {
   "cell_type": "code",
   "execution_count": 3096,
   "id": "003af3d9",
   "metadata": {},
   "outputs": [],
   "source": [
    "import numpy as np  # arrays and math functions\n",
    "from scipy.stats import uniform  # for training-and-test split\n",
    "import statsmodels.api as sm  # statistical models (including regression)\n",
    "import statsmodels.formula.api as smf  # R-like model specification"
   ]
  },
  {
   "cell_type": "code",
   "execution_count": 3097,
   "id": "9ffa57e6",
   "metadata": {},
   "outputs": [
    {
     "name": "stdout",
     "output_type": "stream",
     "text": [
      "\n",
      "training data frame (rows, columns):  (90, 10)\n",
      "\n",
      " Training df\n",
      "                  Conference  fgr  gsr  stadium_capacity         Coach  \\\n",
      "School                                                                  \n",
      "Air Force          Mt. West   89   89             46692  Troy Calhoun   \n",
      "Arizona              Pac-12   55   73             57803  Kevin Sumlin   \n",
      "Arizona State        Pac-12   66   86             73379  Herm Edwards   \n",
      "Central Florida         AAC   68   82             45301   Josh Heupel   \n",
      "Coastal Carolina   Sun Belt   63   81             21000    Joe Moglia   \n",
      "\n",
      "                  TotalPay  win  loss  win_percent  runiform  \n",
      "School                                                        \n",
      "Air Force           885000   10     3         76.9  0.191519  \n",
      "Arizona            2000000    1    11          8.3  0.272593  \n",
      "Arizona State      2000000    2    10         16.7  0.276464  \n",
      "Central Florida    1700000    9     4         69.2  0.013768  \n",
      "Coastal Carolina    400000   11     2         84.6  0.075381  \n",
      "\n",
      "\n",
      "\n",
      "\n",
      "testing data frame (rows, columns):  (35, 10)\n",
      "\n",
      " Testing df\n",
      "                  Conference  fgr  gsr  stadium_capacity         Coach  \\\n",
      "School                                                                  \n",
      "Air Force          Mt. West   89   89             46692  Troy Calhoun   \n",
      "Arizona              Pac-12   55   73             57803  Kevin Sumlin   \n",
      "Arizona State        Pac-12   66   86             73379  Herm Edwards   \n",
      "Central Florida         AAC   68   82             45301   Josh Heupel   \n",
      "Coastal Carolina   Sun Belt   63   81             21000    Joe Moglia   \n",
      "\n",
      "                  TotalPay  win  loss  win_percent  runiform  \n",
      "School                                                        \n",
      "Air Force           885000   10     3         76.9  0.191519  \n",
      "Arizona            2000000    1    11          8.3  0.272593  \n",
      "Arizona State      2000000    2    10         16.7  0.276464  \n",
      "Central Florida    1700000    9     4         69.2  0.013768  \n",
      "Coastal Carolina    400000   11     2         84.6  0.075381  \n"
     ]
    }
   ],
   "source": [
    "\n",
    "# Selecting a random seed to make the test repeatable.\n",
    "np.random.seed(1234)\n",
    "# Giving each row a number from 0-1 resulting in a uniform distribution. \n",
    "df['runiform'] = uniform.rvs(loc = 0, scale = 1, size = len(df))\n",
    "# Using the number given to each row that creates a unifrom distribution to create \n",
    "# a testing and training set the training set is 67% of the data\n",
    "# the testing set is 33%\n",
    "df_train = df[df['runiform'] >= 0.33]\n",
    "df_test = df[df['runiform'] < 0.33]\n",
    "# check training data frame shape\n",
    "print('\\ntraining data frame (rows, columns): ',df_train.shape)\n",
    "# checking the first 5 rows of the testing data\n",
    "print('\\n Training df\\n',df_test.head())\n",
    "# check test data frame shape\n",
    "print('\\n\\n\\n\\ntesting data frame (rows, columns): ',df_test.shape)\n",
    "# checking the first 5 rows of the testing data\n",
    "print('\\n Testing df\\n',df_test.head())\n"
   ]
  },
  {
   "cell_type": "markdown",
   "id": "a9d927d1",
   "metadata": {},
   "source": [
    "# Model Creation"
   ]
  },
  {
   "cell_type": "markdown",
   "id": "553b8b2a",
   "metadata": {},
   "source": [
    "##### Original Model"
   ]
  },
  {
   "cell_type": "code",
   "execution_count": 3098,
   "id": "ebb752ea",
   "metadata": {},
   "outputs": [],
   "source": [
    "\n",
    "# creating a string to use as the model input selecting for totalpay based on the other columns.\n",
    "my_model = str('TotalPay ~ Conference  + gsr + fgr + stadium_capacity + win + loss + win_percent')"
   ]
  },
  {
   "cell_type": "code",
   "execution_count": 3099,
   "id": "531fd343",
   "metadata": {},
   "outputs": [
    {
     "name": "stdout",
     "output_type": "stream",
     "text": [
      "                            OLS Regression Results                            \n",
      "==============================================================================\n",
      "Dep. Variable:               TotalPay   R-squared:                       0.800\n",
      "Model:                            OLS   Adj. R-squared:                  0.757\n",
      "Method:                 Least Squares   F-statistic:                     18.28\n",
      "Date:                Wed, 26 Oct 2022   Prob (F-statistic):           2.26e-19\n",
      "Time:                        15:18:51   Log-Likelihood:                -1359.3\n",
      "No. Observations:                  90   AIC:                             2753.\n",
      "Df Residuals:                      73   BIC:                             2795.\n",
      "Df Model:                          16                                         \n",
      "Covariance Type:            nonrobust                                         \n",
      "==========================================================================================\n",
      "                             coef    std err          t      P>|t|      [0.025      0.975]\n",
      "------------------------------------------------------------------------------------------\n",
      "Intercept               1.436e+07   7.16e+06      2.005      0.049    8.88e+04    2.86e+07\n",
      "Conference[T.ACC]       1.987e+06   4.94e+05      4.022      0.000       1e+06    2.97e+06\n",
      "Conference[T.Big 12]    2.213e+06   4.99e+05      4.432      0.000    1.22e+06    3.21e+06\n",
      "Conference[T.Big Ten]   1.983e+06    5.3e+05      3.742      0.000    9.27e+05    3.04e+06\n",
      "Conference[T.C-USA]    -7.226e+04   5.16e+05     -0.140      0.889    -1.1e+06    9.57e+05\n",
      "Conference[T.Ind.]     -6.324e+05   6.76e+05     -0.935      0.353   -1.98e+06    7.16e+05\n",
      "Conference[T.MAC]       -3.65e+05   5.11e+05     -0.715      0.477   -1.38e+06    6.53e+05\n",
      "Conference[T.Mt. West] -1.313e+05   5.38e+05     -0.244      0.808    -1.2e+06    9.42e+05\n",
      "Conference[T.Pac-12]    1.458e+06   5.01e+05      2.910      0.005    4.59e+05    2.46e+06\n",
      "Conference[T.SEC]        2.42e+06   5.15e+05      4.695      0.000    1.39e+06    3.45e+06\n",
      "Conference[T.Sun Belt] -4.016e+05   5.74e+05     -0.700      0.486   -1.54e+06    7.42e+05\n",
      "gsr                     9095.0057   1.73e+04      0.525      0.601   -2.54e+04    4.36e+04\n",
      "fgr                    -5412.3763   1.45e+04     -0.375      0.709   -3.42e+04    2.34e+04\n",
      "stadium_capacity          25.2248      6.844      3.686      0.000      11.585      38.865\n",
      "win                     5.332e+05   3.18e+05      1.677      0.098   -1.01e+05    1.17e+06\n",
      "loss                   -1.238e+06   6.05e+05     -2.046      0.044   -2.44e+06   -3.23e+04\n",
      "win_percent            -2.043e+05   9.67e+04     -2.114      0.038   -3.97e+05   -1.17e+04\n",
      "==============================================================================\n",
      "Omnibus:                        4.042   Durbin-Watson:                   1.736\n",
      "Prob(Omnibus):                  0.133   Jarque-Bera (JB):                3.344\n",
      "Skew:                           0.375   Prob(JB):                        0.188\n",
      "Kurtosis:                       3.573   Cond. No.                     4.01e+06\n",
      "==============================================================================\n",
      "\n",
      "Notes:\n",
      "[1] Standard Errors assume that the covariance matrix of the errors is correctly specified.\n",
      "[2] The condition number is large, 4.01e+06. This might indicate that there are\n",
      "strong multicollinearity or other numerical problems.\n"
     ]
    },
    {
     "name": "stderr",
     "output_type": "stream",
     "text": [
      "C:\\Users\\Morga\\AppData\\Local\\Temp\\ipykernel_23804\\787408866.py:6: SettingWithCopyWarning: \n",
      "A value is trying to be set on a copy of a slice from a DataFrame.\n",
      "Try using .loc[row_indexer,col_indexer] = value instead\n",
      "\n",
      "See the caveats in the documentation: https://pandas.pydata.org/pandas-docs/stable/user_guide/indexing.html#returning-a-view-versus-a-copy\n",
      "  df_train['predict_TotalPay'] = train_model_fit.fittedvalues\n",
      "C:\\Users\\Morga\\AppData\\Local\\Temp\\ipykernel_23804\\787408866.py:9: SettingWithCopyWarning: \n",
      "A value is trying to be set on a copy of a slice from a DataFrame.\n",
      "Try using .loc[row_indexer,col_indexer] = value instead\n",
      "\n",
      "See the caveats in the documentation: https://pandas.pydata.org/pandas-docs/stable/user_guide/indexing.html#returning-a-view-versus-a-copy\n",
      "  df_test['predict_TotalPay'] = train_model_fit.predict(df_test)\n"
     ]
    }
   ],
   "source": [
    "\n",
    "\n",
    "# fit the model to the training set\n",
    "train_model_fit = smf.ols(my_model, data = df_train).fit()\n",
    "# summary of model fit to the training set\n",
    "print(train_model_fit.summary())\n",
    "# training set predictions from the model fit to the training set\n",
    "df_train['predict_TotalPay'] = train_model_fit.fittedvalues\n",
    "\n",
    "# test set predictions from the model fit to the training set\n",
    "df_test['predict_TotalPay'] = train_model_fit.predict(df_test)"
   ]
  },
  {
   "cell_type": "markdown",
   "id": "797a21eb",
   "metadata": {},
   "source": [
    "##### Original Model with full Data set"
   ]
  },
  {
   "cell_type": "code",
   "execution_count": 3100,
   "id": "d1c7c17c",
   "metadata": {},
   "outputs": [
    {
     "name": "stdout",
     "output_type": "stream",
     "text": [
      "\n",
      "Proportion of Test Set Variance Accounted for:  0.617\n",
      "                            OLS Regression Results                            \n",
      "==============================================================================\n",
      "Dep. Variable:               TotalPay   R-squared:                       0.773\n",
      "Model:                            OLS   Adj. R-squared:                  0.739\n",
      "Method:                 Least Squares   F-statistic:                     22.93\n",
      "Date:                Wed, 26 Oct 2022   Prob (F-statistic):           1.37e-27\n",
      "Time:                        15:18:51   Log-Likelihood:                -1890.5\n",
      "No. Observations:                 125   AIC:                             3815.\n",
      "Df Residuals:                     108   BIC:                             3863.\n",
      "Df Model:                          16                                         \n",
      "Covariance Type:            nonrobust                                         \n",
      "==========================================================================================\n",
      "                             coef    std err          t      P>|t|      [0.025      0.975]\n",
      "------------------------------------------------------------------------------------------\n",
      "Intercept               1.426e+07   5.89e+06      2.419      0.017    2.58e+06    2.59e+07\n",
      "Conference[T.ACC]       1.585e+06   4.11e+05      3.860      0.000    7.71e+05     2.4e+06\n",
      "Conference[T.Big 12]    2.154e+06   4.57e+05      4.710      0.000    1.25e+06    3.06e+06\n",
      "Conference[T.Big Ten]   2.247e+06   4.18e+05      5.370      0.000    1.42e+06    3.08e+06\n",
      "Conference[T.C-USA]    -3.644e+05   4.32e+05     -0.844      0.401   -1.22e+06    4.92e+05\n",
      "Conference[T.Ind.]      -5.51e+05   5.31e+05     -1.038      0.302    -1.6e+06    5.01e+05\n",
      "Conference[T.MAC]      -4.942e+05   4.36e+05     -1.133      0.260   -1.36e+06     3.7e+05\n",
      "Conference[T.Mt. West] -5.053e+05   4.24e+05     -1.192      0.236   -1.35e+06    3.35e+05\n",
      "Conference[T.Pac-12]    1.077e+06   4.26e+05      2.529      0.013    2.33e+05    1.92e+06\n",
      "Conference[T.SEC]       2.268e+06   4.59e+05      4.942      0.000    1.36e+06    3.18e+06\n",
      "Conference[T.Sun Belt]  -7.23e+05   4.57e+05     -1.583      0.116   -1.63e+06    1.82e+05\n",
      "gsr                     2.133e+04   1.48e+04      1.441      0.153   -8012.765    5.07e+04\n",
      "fgr                    -1.208e+04   1.23e+04     -0.985      0.327   -3.64e+04    1.22e+04\n",
      "stadium_capacity          19.6473      5.568      3.529      0.001       8.611      30.684\n",
      "win                     4.695e+05   2.62e+05      1.793      0.076   -4.96e+04    9.89e+05\n",
      "loss                   -1.245e+06   4.84e+05     -2.574      0.011    -2.2e+06   -2.86e+05\n",
      "win_percent            -1.965e+05   7.73e+04     -2.542      0.012    -3.5e+05   -4.33e+04\n",
      "==============================================================================\n",
      "Omnibus:                       15.774   Durbin-Watson:                   1.941\n",
      "Prob(Omnibus):                  0.000   Jarque-Bera (JB):               19.307\n",
      "Skew:                           0.738   Prob(JB):                     6.42e-05\n",
      "Kurtosis:                       4.236   Cond. No.                     3.83e+06\n",
      "==============================================================================\n",
      "\n",
      "Notes:\n",
      "[1] Standard Errors assume that the covariance matrix of the errors is correctly specified.\n",
      "[2] The condition number is large, 3.83e+06. This might indicate that there are\n",
      "strong multicollinearity or other numerical problems.\n"
     ]
    }
   ],
   "source": [
    "# compute the proportion of response variance\n",
    "# accounted for when predicting out-of-sample\n",
    "print('\\nProportion of Test Set Variance Accounted for: ',\\\n",
    "    round(np.power(df_test['TotalPay'].corr(df_test['predict_TotalPay']),2),3))\n",
    "\n",
    "# creating a model from the full data set\n",
    "# this can see the difference in R-squared and used for predictions\n",
    "my_model_fit = smf.ols(my_model, data = df).fit()\n",
    "print(my_model_fit.summary())"
   ]
  },
  {
   "cell_type": "markdown",
   "id": "1b14e547",
   "metadata": {},
   "source": [
    "##### Model #2"
   ]
  },
  {
   "cell_type": "code",
   "execution_count": 3101,
   "id": "206f0f3e",
   "metadata": {},
   "outputs": [],
   "source": [
    "# creating a string to use as the model input selecting for totalpay based on the other columns.\n",
    "my_model_2 = str('TotalPay ~ Conference  + gsr + stadium_capacity + win')"
   ]
  },
  {
   "cell_type": "code",
   "execution_count": 3102,
   "id": "477b8318",
   "metadata": {},
   "outputs": [
    {
     "name": "stdout",
     "output_type": "stream",
     "text": [
      "                            OLS Regression Results                            \n",
      "==============================================================================\n",
      "Dep. Variable:               TotalPay   R-squared:                       0.788\n",
      "Model:                            OLS   Adj. R-squared:                  0.751\n",
      "Method:                 Least Squares   F-statistic:                     21.70\n",
      "Date:                Wed, 26 Oct 2022   Prob (F-statistic):           1.95e-20\n",
      "Time:                        15:18:51   Log-Likelihood:                -1362.1\n",
      "No. Observations:                  90   AIC:                             2752.\n",
      "Df Residuals:                      76   BIC:                             2787.\n",
      "Df Model:                          13                                         \n",
      "Covariance Type:            nonrobust                                         \n",
      "==========================================================================================\n",
      "                             coef    std err          t      P>|t|      [0.025      0.975]\n",
      "------------------------------------------------------------------------------------------\n",
      "Intercept              -1.462e+05   1.21e+06     -0.121      0.904   -2.56e+06    2.27e+06\n",
      "Conference[T.ACC]        1.78e+06   4.88e+05      3.645      0.000    8.07e+05    2.75e+06\n",
      "Conference[T.Big 12]    1.971e+06   4.85e+05      4.063      0.000       1e+06    2.94e+06\n",
      "Conference[T.Big Ten]   1.679e+06   5.15e+05      3.257      0.002    6.52e+05    2.71e+06\n",
      "Conference[T.C-USA]    -3.609e+05   4.84e+05     -0.746      0.458   -1.32e+06    6.02e+05\n",
      "Conference[T.Ind.]      -7.77e+05   6.78e+05     -1.146      0.256   -2.13e+06    5.74e+05\n",
      "Conference[T.MAC]      -6.685e+05   4.91e+05     -1.361      0.177   -1.65e+06     3.1e+05\n",
      "Conference[T.Mt. West] -2.754e+05   5.24e+05     -0.525      0.601   -1.32e+06    7.69e+05\n",
      "Conference[T.Pac-12]    1.296e+06   4.96e+05      2.616      0.011    3.09e+05    2.28e+06\n",
      "Conference[T.SEC]       2.225e+06   4.93e+05      4.515      0.000    1.24e+06    3.21e+06\n",
      "Conference[T.Sun Belt] -4.885e+05   5.55e+05     -0.881      0.381   -1.59e+06    6.16e+05\n",
      "gsr                     -885.3082   1.28e+04     -0.069      0.945   -2.64e+04    2.46e+04\n",
      "stadium_capacity          26.2176      6.603      3.971      0.000      13.067      39.368\n",
      "win                     1.021e+05   3.61e+04      2.826      0.006    3.02e+04    1.74e+05\n",
      "==============================================================================\n",
      "Omnibus:                        3.467   Durbin-Watson:                   1.700\n",
      "Prob(Omnibus):                  0.177   Jarque-Bera (JB):                2.784\n",
      "Skew:                           0.327   Prob(JB):                        0.249\n",
      "Kurtosis:                       3.560   Cond. No.                     7.74e+05\n",
      "==============================================================================\n",
      "\n",
      "Notes:\n",
      "[1] Standard Errors assume that the covariance matrix of the errors is correctly specified.\n",
      "[2] The condition number is large, 7.74e+05. This might indicate that there are\n",
      "strong multicollinearity or other numerical problems.\n"
     ]
    },
    {
     "name": "stderr",
     "output_type": "stream",
     "text": [
      "C:\\Users\\Morga\\AppData\\Local\\Temp\\ipykernel_23804\\1363461121.py:6: SettingWithCopyWarning: \n",
      "A value is trying to be set on a copy of a slice from a DataFrame.\n",
      "Try using .loc[row_indexer,col_indexer] = value instead\n",
      "\n",
      "See the caveats in the documentation: https://pandas.pydata.org/pandas-docs/stable/user_guide/indexing.html#returning-a-view-versus-a-copy\n",
      "  df_train['predict_TotalPay'] = train_model_fit.fittedvalues\n",
      "C:\\Users\\Morga\\AppData\\Local\\Temp\\ipykernel_23804\\1363461121.py:9: SettingWithCopyWarning: \n",
      "A value is trying to be set on a copy of a slice from a DataFrame.\n",
      "Try using .loc[row_indexer,col_indexer] = value instead\n",
      "\n",
      "See the caveats in the documentation: https://pandas.pydata.org/pandas-docs/stable/user_guide/indexing.html#returning-a-view-versus-a-copy\n",
      "  df_test['predict_TotalPay'] = train_model_fit.predict(df_test)\n"
     ]
    }
   ],
   "source": [
    "# fit the model to the training set\n",
    "train_model_fit = smf.ols(my_model_2, data = df_train).fit()\n",
    "# summary of model fit to the training set\n",
    "print(train_model_fit.summary())\n",
    "# training set predictions from the model fit to the training set\n",
    "df_train['predict_TotalPay'] = train_model_fit.fittedvalues\n",
    "\n",
    "# test set predictions from the model fit to the training set\n",
    "df_test['predict_TotalPay'] = train_model_fit.predict(df_test)"
   ]
  },
  {
   "cell_type": "markdown",
   "id": "4c934658",
   "metadata": {},
   "source": [
    "##### Model 2 Using the full Data set"
   ]
  },
  {
   "cell_type": "code",
   "execution_count": 3103,
   "id": "cf95c388",
   "metadata": {},
   "outputs": [
    {
     "name": "stdout",
     "output_type": "stream",
     "text": [
      "\n",
      "Proportion of Test Set Variance Accounted for:  0.576\n",
      "                            OLS Regression Results                            \n",
      "==============================================================================\n",
      "Dep. Variable:               TotalPay   R-squared:                       0.758\n",
      "Model:                            OLS   Adj. R-squared:                  0.729\n",
      "Method:                 Least Squares   F-statistic:                     26.68\n",
      "Date:                Wed, 26 Oct 2022   Prob (F-statistic):           2.93e-28\n",
      "Time:                        15:18:51   Log-Likelihood:                -1894.5\n",
      "No. Observations:                 125   AIC:                             3817.\n",
      "Df Residuals:                     111   BIC:                             3857.\n",
      "Df Model:                          13                                         \n",
      "Covariance Type:            nonrobust                                         \n",
      "==========================================================================================\n",
      "                             coef    std err          t      P>|t|      [0.025      0.975]\n",
      "------------------------------------------------------------------------------------------\n",
      "Intercept              -8.103e+05   9.61e+05     -0.843      0.401   -2.71e+06    1.09e+06\n",
      "Conference[T.ACC]       1.471e+06   4.12e+05      3.572      0.001    6.55e+05    2.29e+06\n",
      "Conference[T.Big 12]    2.046e+06   4.56e+05      4.482      0.000    1.14e+06    2.95e+06\n",
      "Conference[T.Big Ten]   2.123e+06   4.22e+05      5.033      0.000    1.29e+06    2.96e+06\n",
      "Conference[T.C-USA]    -4.572e+05   4.23e+05     -1.081      0.282    -1.3e+06    3.81e+05\n",
      "Conference[T.Ind.]     -6.351e+05    5.4e+05     -1.177      0.242    -1.7e+06    4.35e+05\n",
      "Conference[T.MAC]      -7.107e+05   4.29e+05     -1.657      0.100   -1.56e+06    1.39e+05\n",
      "Conference[T.Mt. West] -5.323e+05   4.24e+05     -1.256      0.212   -1.37e+06    3.07e+05\n",
      "Conference[T.Pac-12]    1.013e+06   4.28e+05      2.366      0.020    1.65e+05    1.86e+06\n",
      "Conference[T.SEC]       2.152e+06   4.42e+05      4.874      0.000    1.28e+06    3.03e+06\n",
      "Conference[T.Sun Belt] -6.195e+05   4.51e+05     -1.374      0.172   -1.51e+06    2.74e+05\n",
      "gsr                     9983.0547   1.05e+04      0.950      0.344   -1.08e+04    3.08e+04\n",
      "stadium_capacity          21.8750      5.435      4.025      0.000      11.104      32.646\n",
      "win                     1.005e+05   2.88e+04      3.488      0.001    4.34e+04    1.58e+05\n",
      "==============================================================================\n",
      "Omnibus:                       19.026   Durbin-Watson:                   1.816\n",
      "Prob(Omnibus):                  0.000   Jarque-Bera (JB):               25.214\n",
      "Skew:                           0.824   Prob(JB):                     3.35e-06\n",
      "Kurtosis:                       4.457   Cond. No.                     7.32e+05\n",
      "==============================================================================\n",
      "\n",
      "Notes:\n",
      "[1] Standard Errors assume that the covariance matrix of the errors is correctly specified.\n",
      "[2] The condition number is large, 7.32e+05. This might indicate that there are\n",
      "strong multicollinearity or other numerical problems.\n"
     ]
    }
   ],
   "source": [
    "# compute the proportion of response variance\n",
    "# accounted for when predicting out-of-sample\n",
    "print('\\nProportion of Test Set Variance Accounted for: ',\\\n",
    "    round(np.power(df_test['TotalPay'].corr(df_test['predict_TotalPay']),2),3))\n",
    "\n",
    "# creating a model from the full data set\n",
    "# this can see the difference in R-squared and used for predictions\n",
    "my_model_fit_2 = smf.ols(my_model_2, data = df).fit()\n",
    "print(my_model_fit_2.summary())\n",
    "\n"
   ]
  },
  {
   "cell_type": "markdown",
   "id": "2eeca94e",
   "metadata": {},
   "source": [
    "##### Reasoning for Model 2"
   ]
  },
  {
   "cell_type": "markdown",
   "id": "c7e7deef",
   "metadata": {},
   "source": [
    "When creating a model we have to take into account the goals of the model.  Goal one is to set a prediction method for a new football coach for Syracuse University.  Goal two the model should align with the objectives of the organization that is using the model.  With this in mind it didn't make much sense to keep the fgr as it was paying coaches less money for having more freshman graduate.  Since the goal of Syracuse University is to pass along knowledge and help students graduate this predictor was removed.  The goal of Syracuse Football is to win games, since win_percent was reducing coaches salaries this was also removed.  When win_percent is removed it caused salary to increase with loss, thus loss was also removed.  It makes a model that is slightly less accurate, but working more in line with the goals of the organization."
   ]
  },
  {
   "cell_type": "markdown",
   "id": "bc78f470",
   "metadata": {},
   "source": [
    "# Lab Questions"
   ]
  },
  {
   "cell_type": "markdown",
   "id": "12bc97a5",
   "metadata": {},
   "source": [
    " What is the recommended salary for the Syracuse football coach?"
   ]
  },
  {
   "cell_type": "code",
   "execution_count": 3104,
   "id": "86fbab7b",
   "metadata": {},
   "outputs": [],
   "source": [
    "#Creating a new data frame containing syracuse information to be used in prediction questions for the lab\n",
    "cuse=[{'School':'Syracuse','Conference':'ACC','fgr':76,'gsr':88,'stadium_capacity':49262,'win':5,'loss':7,'win_percent':41.7}]\n",
    "Syracuse_coach = pd.DataFrame(cuse)"
   ]
  },
  {
   "cell_type": "code",
   "execution_count": 3105,
   "id": "7e9bba08",
   "metadata": {},
   "outputs": [
    {
     "name": "stdout",
     "output_type": "stream",
     "text": [
      "The recommended Salary for the Syracuse football coach is: 3119004.55\n"
     ]
    }
   ],
   "source": [
    "#predicting the data frame and displaying the answer to the lab question 1\n",
    "Syracuse_coach['predict_TotalPay'] = my_model_fit_2.predict(Syracuse_coach)\n",
    "print('The recommended Salary for the Syracuse football coach is:',round(float(Syracuse_coach['predict_TotalPay'][Syracuse_coach['School']=='Syracuse']),2))"
   ]
  },
  {
   "cell_type": "markdown",
   "id": "875dc72e",
   "metadata": {},
   "source": [
    " What would his salary be if we were still in the Big East? What if we went to the Big \n",
    "Ten?"
   ]
  },
  {
   "cell_type": "code",
   "execution_count": 3106,
   "id": "d29afbc9",
   "metadata": {},
   "outputs": [],
   "source": [
    "# Creating new rows with the simulated data for lab question 2.\n",
    "cuse.append({'School':'Syracuse_big_east','Conference':'AAC','fgr':76,'gsr':88,'stadium_capacity':49262,'win':5,'loss':7,'win_percent':41.7})\n",
    "cuse.append({'School':'Syracuse_big_ten','Conference':'Big Ten','fgr':76,'gsr':88,'stadium_capacity':49262,'win':5,'loss':7,'win_percent':41.7})\n",
    "#Recreating the data frame with new info added.\n",
    "Syracuse_coach = pd.DataFrame(cuse)\n"
   ]
  },
  {
   "cell_type": "code",
   "execution_count": 3107,
   "id": "f9f8d8fa",
   "metadata": {},
   "outputs": [
    {
     "name": "stdout",
     "output_type": "stream",
     "text": [
      "If Syracuse was still in the Big East (now the AAC) the recommended Salary for the football coach would be: 1648233.14\n",
      "If Syracuse was in the Big Ten the recommended Salary for the football coach would be: 3770846.68\n"
     ]
    }
   ],
   "source": [
    "#predicting the data frame and displaying the answer to the lab question 1\n",
    "Syracuse_coach['predict_TotalPay'] = my_model_fit_2.predict(Syracuse_coach)\n",
    "print('If Syracuse was still in the Big East (now the AAC) the recommended Salary for the football coach would be:',round(float(Syracuse_coach['predict_TotalPay'][Syracuse_coach['School']=='Syracuse_big_east']),2))\n",
    "print('If Syracuse was in the Big Ten the recommended Salary for the football coach would be:',round(float(Syracuse_coach['predict_TotalPay'][Syracuse_coach['School']=='Syracuse_big_ten']),2))"
   ]
  },
  {
   "cell_type": "markdown",
   "id": "c2b160ef",
   "metadata": {},
   "source": [
    " What schools did we drop from our data and why?"
   ]
  },
  {
   "cell_type": "markdown",
   "id": "5e039739",
   "metadata": {},
   "source": [
    "The four schools dropped form the data were Baylor, Brigham Young, Rice, and Southern Methodist.  They were dropped because they did not have any information on pay. "
   ]
  },
  {
   "cell_type": "markdown",
   "id": "01aba588",
   "metadata": {},
   "source": [
    "What effect does graduation rate have on the projected salary?\n"
   ]
  },
  {
   "cell_type": "code",
   "execution_count": 3108,
   "id": "4a9f3c71",
   "metadata": {},
   "outputs": [
    {
     "name": "stdout",
     "output_type": "stream",
     "text": [
      "The fgr (Federal Graduation Rate) from the original model, per point decreases salary by: -12076.334224367161\n",
      "Again fgr was removed for model 2 \n",
      "because it didn't make sense to keep an attribute that pays coaches less for students graduating.\n",
      "The gsr (Graduation Success Rate) from model 2, per point increases salary by: 9983.05474570904\n"
     ]
    }
   ],
   "source": [
    "print('The fgr (Federal Graduation Rate) from the original model, per point decreases salary by:',my_model_fit.params[12])\n",
    "print(\"Again fgr was removed for model 2 \\nbecause it didn't make sense to keep an attribute that pays coaches less for students graduating.\")\n",
    "print(\"The gsr (Graduation Success Rate) from model 2, per point increases salary by:\",my_model_fit_2.params[11])"
   ]
  },
  {
   "cell_type": "markdown",
   "id": "4489ea1b",
   "metadata": {},
   "source": [
    " How good is our model?"
   ]
  },
  {
   "cell_type": "code",
   "execution_count": 3109,
   "id": "4dedcd60",
   "metadata": {},
   "outputs": [
    {
     "name": "stdout",
     "output_type": "stream",
     "text": [
      "The Original Model preforms slightly better and could be used accounting for 77.26 percent of the variation in coaches pay.\n",
      "While model 2 seems to align more with a University's goals, it accounts for 75.75 percent of the variation in coaches pay.\n"
     ]
    }
   ],
   "source": [
    "print(\"The Original Model preforms slightly better and could be used accounting for\",\n",
    "      round(my_model_fit.rsquared*100,2),\n",
    "      \"percent of the variation in coaches pay.\\nWhile model 2 seems to align more with a University's goals, it accounts for\",\n",
    "      round(my_model_fit_2.rsquared*100,2,),\n",
    "      \"percent of the variation in coaches pay.\")"
   ]
  },
  {
   "cell_type": "markdown",
   "id": "e1aff730",
   "metadata": {},
   "source": [
    " What is the single biggest impact on salary size?"
   ]
  },
  {
   "cell_type": "code",
   "execution_count": 3110,
   "id": "8b112f79",
   "metadata": {},
   "outputs": [
    {
     "name": "stdout",
     "output_type": "stream",
     "text": [
      "Max increase in coaches pay due to gsr is: 998305.47\n"
     ]
    }
   ],
   "source": [
    "#Possible Salary Diff due to gsr\n",
    "print(\"Max increase in coaches pay due to gsr is:\",round((my_model_fit_2.params[11]*100),2))"
   ]
  },
  {
   "cell_type": "code",
   "execution_count": 3111,
   "id": "34482537",
   "metadata": {},
   "outputs": [
    {
     "name": "stdout",
     "output_type": "stream",
     "text": [
      "Max increase in coaches pay due to winning games is: 1205790.99\n"
     ]
    }
   ],
   "source": [
    "# salary increase by winning all 12 games\n",
    "print(\"Max increase in coaches pay due to winning games is:\",round((my_model_fit_2.params[13]*12),2))"
   ]
  },
  {
   "cell_type": "code",
   "execution_count": 3112,
   "id": "d29b13a9",
   "metadata": {},
   "outputs": [
    {
     "name": "stdout",
     "output_type": "stream",
     "text": [
      "Potential difference in pay from the stadium with the most capacity to the least is: 2011801.16\n"
     ]
    }
   ],
   "source": [
    "#Possible Salary Diff due to stadium_capacity\n",
    "print(\"Potential difference in pay from the stadium with the most capacity to the least is:\",\n",
    "      round((max(df['stadium_capacity'])*my_model_fit_2.params[12])-\n",
    "            (min(df['stadium_capacity'])*my_model_fit_2.params[12]),2))   "
   ]
  },
  {
   "cell_type": "code",
   "execution_count": 3113,
   "id": "c59ddbf9",
   "metadata": {},
   "outputs": [
    {
     "name": "stdout",
     "output_type": "stream",
     "text": [
      "Potential incease in salary from the least paid conference to the hightest is: 2863064.64\n"
     ]
    }
   ],
   "source": [
    "#Possible increase in salary from the least paid conferrence to the most paid conference\n",
    "print(\"Potential incease in salary from the least paid conference to the hightest is:\",\n",
    "      round(my_model_fit_2.params[9]-my_model_fit_2.params[6],2))"
   ]
  },
  {
   "cell_type": "markdown",
   "id": "348d27b6",
   "metadata": {},
   "source": [
    "As shown above the largest potential impact on salary size comes from which conference the team highering the coach plays in.  Yet Stadium Size is a close second. "
   ]
  },
  {
   "cell_type": "markdown",
   "id": "2a7c3646",
   "metadata": {},
   "source": [
    "# Final Thoughts"
   ]
  },
  {
   "cell_type": "markdown",
   "id": "e1ad5426",
   "metadata": {},
   "source": [
    "The final predictions found did end up being slightly higher then the actual salary of the coaches.  This was to be expected and pointed out during the EDA.  Things that I would look at next are how long the contracts are used for and when was the current contract established.  How long has that coach been the head coach.  It is easier to keep a program and then start a new program.  It is possible to find the win percentage of the coaches previous team and factor that into his contract instead of the win loss of the last year.  This information isn't necessariy about the contract as a coach who previously was coaching a 12-0 team gets hired with a high salary and this could be his first year building a new program going 6-6 wouldn't be unheard of.  He hasn't had time yet to scout the students he wishes for his team and could be using a team that was based on a run game where his strategy is mainly passing.  There are many factors to consider. "
   ]
  },
  {
   "cell_type": "markdown",
   "id": "00f64ee4",
   "metadata": {},
   "source": [
    "I would also like to note that gsr and fgr should be more important and coaches should be pushed to have college athelete do well in school."
   ]
  },
  {
   "cell_type": "markdown",
   "id": "5c4cc376",
   "metadata": {},
   "source": [
    "# Bonus: Hierarchiacal Clustering Model"
   ]
  },
  {
   "cell_type": "code",
   "execution_count": 3114,
   "id": "3fd330f1",
   "metadata": {},
   "outputs": [],
   "source": [
    "import pandas as pd\n",
    "import matplotlib.pyplot as plt\n",
    "from scipy.cluster.hierarchy import dendrogram, linkage\n",
    "from sklearn.cluster import AgglomerativeClustering"
   ]
  },
  {
   "cell_type": "code",
   "execution_count": 3115,
   "id": "7c19e1d2",
   "metadata": {},
   "outputs": [],
   "source": [
    "# Removing non numerical columns that will not be used for clustering\n",
    "conf = df['Conference'].to_list()\n",
    "df.drop('Conference', axis=1, inplace=True)\n",
    "df.drop('Coach', axis=1, inplace=True)\n"
   ]
  },
  {
   "cell_type": "code",
   "execution_count": 3116,
   "id": "3421419a",
   "metadata": {},
   "outputs": [
    {
     "data": {
      "image/png": "[encoded data removed]",
      "text/plain": [
       "<Figure size 720x504 with 1 Axes>"
      ]
     },
     "metadata": {
      "needs_background": "light"
     },
     "output_type": "display_data"
    }
   ],
   "source": [
    "# Creating the dendrogram for visual inspection\n",
    "plt.figure(figsize =(10,7))\n",
    "plt.title('Dendrogram')\n",
    "\n",
    "linkage_method = linkage(df, method ='ward', metric='euclidean')\n",
    "Dendrogram = dendrogram(linkage_method)"
   ]
  },
  {
   "cell_type": "code",
   "execution_count": 3117,
   "id": "e6c571fe",
   "metadata": {},
   "outputs": [
    {
     "data": {
      "image/png": "[encoded data removed]",
      "text/plain": [
       "<Figure size 360x360 with 1 Axes>"
      ]
     },
     "metadata": {
      "needs_background": "light"
     },
     "output_type": "display_data"
    }
   ],
   "source": [
    "# Selecting the number of clusters (11 for the number of conferences)\n",
    "cluster_ea = AgglomerativeClustering(n_clusters=11, linkage='ward',affinity='euclidean')\n",
    "\n",
    "# Visualizing the clustering\n",
    "plt.figure(figsize =(5, 5))\n",
    "plt.scatter(df['stadium_capacity'], df['TotalPay'], c = cluster_ea.fit_predict(df),cmap='rainbow')\n",
    "plt.show()"
   ]
  },
  {
   "cell_type": "code",
   "execution_count": 3118,
   "id": "6ed84360",
   "metadata": {},
   "outputs": [],
   "source": [
    "# Saving the cluster labels\n",
    "labels = cluster_ea.fit_predict(df)"
   ]
  },
  {
   "cell_type": "code",
   "execution_count": 3119,
   "id": "e2e8fc17",
   "metadata": {},
   "outputs": [],
   "source": [
    "# creating the cluster labels in the df\n",
    "df['labels']=labels\n",
    "# adding conference back to the data frame\n",
    "df['Conference']=conf"
   ]
  },
  {
   "cell_type": "code",
   "execution_count": 3120,
   "id": "43a57c30",
   "metadata": {},
   "outputs": [
    {
     "data": {
      "image/png": "[encoded data removed]",
      "text/plain": [
       "<Figure size 1080x1440 with 1 Axes>"
      ]
     },
     "metadata": {
      "needs_background": "light"
     },
     "output_type": "display_data"
    }
   ],
   "source": [
    "plt.figure(figsize =(15, 20))\n",
    "# Creating the same plot as before using labels column created previously\n",
    "plt.scatter(df['stadium_capacity'], df['TotalPay'], c = df['labels'],cmap='rainbow')\n",
    "# adding the true confrence names for visual comparison\n",
    "[plt.text( x=row['stadium_capacity'],y=row['TotalPay'], s=row[\"Conference\"]) for k,row in df.iterrows()]\n",
    "plt.show()"
   ]
  },
  {
   "cell_type": "markdown",
   "id": "f5f153e3",
   "metadata": {},
   "source": [
    "This Hierrarchiacal Clustering was tested using cosine distance as well as complete and single linkage for both cosine and euclidine.  This was the closest still being off by a pretty large margin.  The clustering is mainly being made off the TotalPay, Basically clustering in bracets of different total pay amounts."
   ]
  }
 ],
 "metadata": {
  "kernelspec": {
   "display_name": "Python 3 (ipykernel)",
   "language": "python",
   "name": "python3"
  },
  "language_info": {
   "codemirror_mode": {
    "name": "ipython",
    "version": 3
   },
   "file_extension": ".py",
   "mimetype": "text/x-python",
   "name": "python",
   "nbconvert_exporter": "python",
   "pygments_lexer": "ipython3",
   "version": "3.8.8"
  }
 },
 "nbformat": 4,
 "nbformat_minor": 5
}
